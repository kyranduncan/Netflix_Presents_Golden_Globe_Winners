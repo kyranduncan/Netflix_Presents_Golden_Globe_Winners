{
 "cells": [
  {
   "cell_type": "markdown",
   "metadata": {},
   "source": [
    "# Project 2: ETL Challenge\n",
    "\n",
    "This project was completed by Kyra, Kyna and Cindy.\n",
    "\n",
<<<<<<< HEAD
    "This program will deliver a database containing Netflix movies and TV shows that have been nominated for (and possibly won) awards at the Golden Globes (1944 - 2020).  It reads in 2 CSV files (Netflix movies/TV shows in 2019 and Golden Globe nominations and winners).     We loaded the 2 files into an Postgres SQL database and join the tables by title for analysis purposes. \n",
    "\n",
    "These were the steps taken:\n",
    "\n",
    "Extract: \n",
    "\n",
    "1.  netflix_titles.csv - source www.kaggle.com (6234 rows)\n",
    "2.  golden_globe_awards.csv - source www.kaggle.com (7992 rows)\n",
    "\n",
    "Transform:\n",
    "\n",
    "1. Removed all unnecessary columns from both data sources.\n",
    "2. Ran the '??' command to fix those rows that had the title in the wrong column.  \n",
    "3. Renamed some column headings \n",
    "4. Dropped rows with missing (NaN values)\n",
    "5. We also set the title to upper case for both files.  \n",
    "\n",
    "Load:\n",
    "We loaded the 2 files into an Postgres SQL database and join the tables by title for analysis purposes. \n",
    "\n",
    "1.  www.quickdatabasediagrams.com was used to create our ERD.  See QuickDBD-export.png for our database schema.\n",
    "2.  The Quick DBD export function was used to generate the SQL for creating our tables.  See QuickDBD-esport.sql for our table create statements.\n",
    "3.  PGAdmin was used to create our Postgres SQL database.  The reason we used a structured relational database is because our data is static and structured into rows and columns.\n",
    "4.  The tables can be joined by title to perform analysis such as:\n",
    "\n",
    " - Which Golden Globe nominations are on Netflix\n",
    " - which Golden Globe winners are and are not on Netflix\n",
    " - How many Netflix shows are Golden Globe nominations and winners\n",
    " - What are the ratings for the nominations and winners\n",
    " \n"
=======
    "This program will deliver a database containing Netflix movies and TV shows that have been nominated for (and possibly won) awards at the Golden Globes (1944 - 2020). It reads in 2 CSV files (Netflix movies/TV shows (from 2019) and Golden Globe nominations and winners). We merged on title and loaded the data into an Postgres SQL database.\n",
    "\n",
    "These were the steps taken:\n",
    "\n",
    "Extract:\n",
    "\n",
    "1. netflix_titles.csv - source www.kaggle.com (6234 rows) \n",
    "2. golden_globe_awards.csv - source www.kaggle.com (7992 rows) \n",
    "\n",
    "Transform:\n",
    "\n",
    "1. Removed all unnecessary columns from both data sources \n",
    "2. Ran the .isnull command to fix those rows that had the title in the wrong column \n",
    "3. Renamed some column headings \n",
    "4. Dropped rows with missing values (NaN)\n",
    "5. We also set the title to upper case for both files. \n",
    "\n",
    "Load: We loaded the files into a Postgres SQL database.\n",
    "\n",
    "1. www.quickdatabasediagrams.com was used to create our ERD. We created a foreign key in the Golden Globes table to link to the Netflix table.  See QuickDBD-export.png for our database schema.\n",
    "\n",
    "2. The Quick DBD export function was used to generate the SQL for creating our tables. See QuickDBD-export.sql for our table create statements.\n",
    "\n",
    "3. PGAdmin was used to create our Postgres SQL database. The reason we used a structured relational database is because our data is static and structured into rows and columns.  \n",
    "\n",
    "4.  Some ideas for analysis are:\n",
    "\n",
    " - Which Golden Globe nominations are on Netflix? \n",
    " - Which Golden Globe winners are on Netflix? \n",
    " - How many Netflix shows are Golden Globe nominations or winners? \n",
    " - What are the ratings for the nominations and winners?"
>>>>>>> cindy
   ]
  },
  {
   "cell_type": "code",
   "execution_count": 1,
   "metadata": {},
   "outputs": [],
   "source": [
    "import pandas as pd\n",
    "import psycopg2 as pg\n",
<<<<<<< HEAD
    "from sqlalchemy import create_engine\n"
=======
    "from sqlalchemy import create_engine"
>>>>>>> cindy
   ]
  },
  {
   "cell_type": "markdown",
   "metadata": {},
   "source": [
<<<<<<< HEAD
    "# Read CSV files into dataframes"
=======
    " # Read CSV files into dataframes\n"
>>>>>>> cindy
   ]
  },
  {
   "cell_type": "code",
   "execution_count": 2,
   "metadata": {},
   "outputs": [],
   "source": [
    "netflix = \"netflix_cleaned.csv\"\n",
    "gg = \"globes_transformed.csv\""
   ]
  },
  {
   "cell_type": "code",
   "execution_count": 3,
   "metadata": {},
   "outputs": [],
   "source": [
    "netflix_df = pd.read_csv(netflix)\n",
    "gg_df = pd.read_csv(gg)"
   ]
  },
  {
   "cell_type": "code",
   "execution_count": 4,
   "metadata": {},
   "outputs": [
    {
     "data": {
      "text/html": [
       "<div>\n",
       "<style scoped>\n",
       "    .dataframe tbody tr th:only-of-type {\n",
       "        vertical-align: middle;\n",
       "    }\n",
       "\n",
       "    .dataframe tbody tr th {\n",
       "        vertical-align: top;\n",
       "    }\n",
       "\n",
       "    .dataframe thead th {\n",
       "        text-align: right;\n",
       "    }\n",
       "</style>\n",
       "<table border=\"1\" class=\"dataframe\">\n",
       "  <thead>\n",
       "    <tr style=\"text-align: right;\">\n",
       "      <th></th>\n",
<<<<<<< HEAD
       "      <th>Unnamed: 0</th>\n",
=======
       "      <th>id</th>\n",
>>>>>>> cindy
       "      <th>show_id</th>\n",
       "      <th>type</th>\n",
       "      <th>title</th>\n",
       "      <th>director</th>\n",
       "      <th>year_film</th>\n",
       "      <th>rating</th>\n",
       "      <th>duration</th>\n",
       "      <th>listed_in</th>\n",
       "      <th>description</th>\n",
       "    </tr>\n",
       "  </thead>\n",
       "  <tbody>\n",
       "    <tr>\n",
       "      <td>0</td>\n",
       "      <td>0</td>\n",
       "      <td>81145628</td>\n",
       "      <td>Movie</td>\n",
       "      <td>NORM OF THE NORTH: KING SIZED ADVENTURE</td>\n",
       "      <td>Richard Finn, Tim Maltby</td>\n",
       "      <td>2019</td>\n",
       "      <td>TV-PG</td>\n",
       "      <td>90 min</td>\n",
       "      <td>Children &amp; Family Movies, Comedies</td>\n",
       "      <td>Before planning an awesome wedding for his gra...</td>\n",
       "    </tr>\n",
       "    <tr>\n",
       "      <td>1</td>\n",
       "      <td>4</td>\n",
       "      <td>80125979</td>\n",
       "      <td>Movie</td>\n",
       "      <td>#REALITYHIGH</td>\n",
       "      <td>Fernando Lebrija</td>\n",
       "      <td>2017</td>\n",
       "      <td>TV-14</td>\n",
       "      <td>99 min</td>\n",
       "      <td>Comedies</td>\n",
       "      <td>When nerdy high schooler Dani finally attracts...</td>\n",
       "    </tr>\n",
       "    <tr>\n",
       "      <td>2</td>\n",
       "      <td>6</td>\n",
       "      <td>70304989</td>\n",
       "      <td>Movie</td>\n",
       "      <td>AUTOMATA</td>\n",
       "      <td>Gabe Ibáñez</td>\n",
       "      <td>2014</td>\n",
       "      <td>R</td>\n",
       "      <td>110 min</td>\n",
       "      <td>International Movies, Sci-Fi &amp; Fantasy, Thrillers</td>\n",
       "      <td>In a dystopian future, an insurance adjuster f...</td>\n",
       "    </tr>\n",
       "    <tr>\n",
       "      <td>3</td>\n",
       "      <td>7</td>\n",
       "      <td>80164077</td>\n",
       "      <td>Movie</td>\n",
       "      <td>FABRIZIO COPANO: SOLO PIENSO EN MI</td>\n",
       "      <td>Rodrigo Toro, Francisco Schultz</td>\n",
       "      <td>2017</td>\n",
       "      <td>TV-MA</td>\n",
       "      <td>60 min</td>\n",
       "      <td>Stand-Up Comedy</td>\n",
       "      <td>Fabrizio Copano takes audience participation t...</td>\n",
       "    </tr>\n",
       "    <tr>\n",
       "      <td>4</td>\n",
       "      <td>9</td>\n",
       "      <td>70304990</td>\n",
       "      <td>Movie</td>\n",
       "      <td>GOOD PEOPLE</td>\n",
       "      <td>Henrik Ruben Genz</td>\n",
       "      <td>2014</td>\n",
       "      <td>R</td>\n",
       "      <td>90 min</td>\n",
       "      <td>Action &amp; Adventure, Thrillers</td>\n",
       "      <td>A struggling couple can't believe their luck w...</td>\n",
       "    </tr>\n",
       "  </tbody>\n",
       "</table>\n",
       "</div>"
      ],
      "text/plain": [
<<<<<<< HEAD
       "   Unnamed: 0   show_id   type                                    title  \\\n",
       "0           0  81145628  Movie  NORM OF THE NORTH: KING SIZED ADVENTURE   \n",
       "1           4  80125979  Movie                             #REALITYHIGH   \n",
       "2           6  70304989  Movie                                 AUTOMATA   \n",
       "3           7  80164077  Movie       FABRIZIO COPANO: SOLO PIENSO EN MI   \n",
       "4           9  70304990  Movie                              GOOD PEOPLE   \n",
=======
       "   id   show_id   type                                    title  \\\n",
       "0   0  81145628  Movie  NORM OF THE NORTH: KING SIZED ADVENTURE   \n",
       "1   4  80125979  Movie                             #REALITYHIGH   \n",
       "2   6  70304989  Movie                                 AUTOMATA   \n",
       "3   7  80164077  Movie       FABRIZIO COPANO: SOLO PIENSO EN MI   \n",
       "4   9  70304990  Movie                              GOOD PEOPLE   \n",
>>>>>>> cindy
       "\n",
       "                          director  year_film rating duration  \\\n",
       "0         Richard Finn, Tim Maltby       2019  TV-PG   90 min   \n",
       "1                 Fernando Lebrija       2017  TV-14   99 min   \n",
       "2                      Gabe Ibáñez       2014      R  110 min   \n",
       "3  Rodrigo Toro, Francisco Schultz       2017  TV-MA   60 min   \n",
       "4                Henrik Ruben Genz       2014      R   90 min   \n",
       "\n",
       "                                           listed_in  \\\n",
       "0                 Children & Family Movies, Comedies   \n",
       "1                                           Comedies   \n",
       "2  International Movies, Sci-Fi & Fantasy, Thrillers   \n",
       "3                                    Stand-Up Comedy   \n",
       "4                      Action & Adventure, Thrillers   \n",
       "\n",
       "                                         description  \n",
       "0  Before planning an awesome wedding for his gra...  \n",
       "1  When nerdy high schooler Dani finally attracts...  \n",
       "2  In a dystopian future, an insurance adjuster f...  \n",
       "3  Fabrizio Copano takes audience participation t...  \n",
       "4  A struggling couple can't believe their luck w...  "
      ]
     },
     "execution_count": 4,
     "metadata": {},
     "output_type": "execute_result"
    }
   ],
   "source": [
    "netflix_df.head()"
   ]
  },
  {
   "cell_type": "markdown",
   "metadata": {},
   "source": [
<<<<<<< HEAD
    "# Create new Netfilx data with select columns rearranged"
=======
    "# Create new Netflix data with select columns rearranged and renamed.  This dataframe gets loaded into the database."
>>>>>>> cindy
   ]
  },
  {
   "cell_type": "code",
   "execution_count": 5,
   "metadata": {},
   "outputs": [
    {
     "data": {
      "text/html": [
       "<div>\n",
       "<style scoped>\n",
       "    .dataframe tbody tr th:only-of-type {\n",
       "        vertical-align: middle;\n",
       "    }\n",
       "\n",
       "    .dataframe tbody tr th {\n",
       "        vertical-align: top;\n",
       "    }\n",
       "\n",
       "    .dataframe thead th {\n",
       "        text-align: right;\n",
       "    }\n",
       "</style>\n",
       "<table border=\"1\" class=\"dataframe\">\n",
       "  <thead>\n",
       "    <tr style=\"text-align: right;\">\n",
       "      <th></th>\n",
<<<<<<< HEAD
       "      <th>show_id</th>\n",
=======
       "      <th>netflix_id</th>\n",
>>>>>>> cindy
       "      <th>title</th>\n",
       "      <th>type</th>\n",
       "      <th>director</th>\n",
       "      <th>year_film</th>\n",
       "      <th>rating</th>\n",
       "      <th>duration</th>\n",
       "      <th>listed_in</th>\n",
       "      <th>description</th>\n",
       "    </tr>\n",
       "  </thead>\n",
       "  <tbody>\n",
       "    <tr>\n",
       "      <td>0</td>\n",
       "      <td>81145628</td>\n",
       "      <td>NORM OF THE NORTH: KING SIZED ADVENTURE</td>\n",
       "      <td>Movie</td>\n",
       "      <td>Richard Finn, Tim Maltby</td>\n",
       "      <td>2019</td>\n",
       "      <td>TV-PG</td>\n",
       "      <td>90 min</td>\n",
       "      <td>Children &amp; Family Movies, Comedies</td>\n",
       "      <td>Before planning an awesome wedding for his gra...</td>\n",
       "    </tr>\n",
       "    <tr>\n",
       "      <td>1</td>\n",
       "      <td>80125979</td>\n",
       "      <td>#REALITYHIGH</td>\n",
       "      <td>Movie</td>\n",
       "      <td>Fernando Lebrija</td>\n",
       "      <td>2017</td>\n",
       "      <td>TV-14</td>\n",
       "      <td>99 min</td>\n",
       "      <td>Comedies</td>\n",
       "      <td>When nerdy high schooler Dani finally attracts...</td>\n",
       "    </tr>\n",
       "    <tr>\n",
       "      <td>2</td>\n",
       "      <td>70304989</td>\n",
       "      <td>AUTOMATA</td>\n",
       "      <td>Movie</td>\n",
       "      <td>Gabe Ibáñez</td>\n",
       "      <td>2014</td>\n",
       "      <td>R</td>\n",
       "      <td>110 min</td>\n",
       "      <td>International Movies, Sci-Fi &amp; Fantasy, Thrillers</td>\n",
       "      <td>In a dystopian future, an insurance adjuster f...</td>\n",
       "    </tr>\n",
       "    <tr>\n",
       "      <td>3</td>\n",
       "      <td>80164077</td>\n",
       "      <td>FABRIZIO COPANO: SOLO PIENSO EN MI</td>\n",
       "      <td>Movie</td>\n",
       "      <td>Rodrigo Toro, Francisco Schultz</td>\n",
       "      <td>2017</td>\n",
       "      <td>TV-MA</td>\n",
       "      <td>60 min</td>\n",
       "      <td>Stand-Up Comedy</td>\n",
       "      <td>Fabrizio Copano takes audience participation t...</td>\n",
       "    </tr>\n",
       "    <tr>\n",
       "      <td>4</td>\n",
       "      <td>70304990</td>\n",
       "      <td>GOOD PEOPLE</td>\n",
       "      <td>Movie</td>\n",
       "      <td>Henrik Ruben Genz</td>\n",
       "      <td>2014</td>\n",
       "      <td>R</td>\n",
       "      <td>90 min</td>\n",
       "      <td>Action &amp; Adventure, Thrillers</td>\n",
       "      <td>A struggling couple can't believe their luck w...</td>\n",
       "    </tr>\n",
       "  </tbody>\n",
       "</table>\n",
       "</div>"
      ],
      "text/plain": [
<<<<<<< HEAD
       "    show_id                                    title   type  \\\n",
       "0  81145628  NORM OF THE NORTH: KING SIZED ADVENTURE  Movie   \n",
       "1  80125979                             #REALITYHIGH  Movie   \n",
       "2  70304989                                 AUTOMATA  Movie   \n",
       "3  80164077       FABRIZIO COPANO: SOLO PIENSO EN MI  Movie   \n",
       "4  70304990                              GOOD PEOPLE  Movie   \n",
=======
       "   netflix_id                                    title   type  \\\n",
       "0    81145628  NORM OF THE NORTH: KING SIZED ADVENTURE  Movie   \n",
       "1    80125979                             #REALITYHIGH  Movie   \n",
       "2    70304989                                 AUTOMATA  Movie   \n",
       "3    80164077       FABRIZIO COPANO: SOLO PIENSO EN MI  Movie   \n",
       "4    70304990                              GOOD PEOPLE  Movie   \n",
>>>>>>> cindy
       "\n",
       "                          director  year_film rating duration  \\\n",
       "0         Richard Finn, Tim Maltby       2019  TV-PG   90 min   \n",
       "1                 Fernando Lebrija       2017  TV-14   99 min   \n",
       "2                      Gabe Ibáñez       2014      R  110 min   \n",
       "3  Rodrigo Toro, Francisco Schultz       2017  TV-MA   60 min   \n",
       "4                Henrik Ruben Genz       2014      R   90 min   \n",
       "\n",
       "                                           listed_in  \\\n",
       "0                 Children & Family Movies, Comedies   \n",
       "1                                           Comedies   \n",
       "2  International Movies, Sci-Fi & Fantasy, Thrillers   \n",
       "3                                    Stand-Up Comedy   \n",
       "4                      Action & Adventure, Thrillers   \n",
       "\n",
       "                                         description  \n",
       "0  Before planning an awesome wedding for his gra...  \n",
       "1  When nerdy high schooler Dani finally attracts...  \n",
       "2  In a dystopian future, an insurance adjuster f...  \n",
       "3  Fabrizio Copano takes audience participation t...  \n",
       "4  A struggling couple can't believe their luck w...  "
      ]
     },
     "execution_count": 5,
     "metadata": {},
     "output_type": "execute_result"
    }
   ],
   "source": [
    "new_netflix_df = netflix_df[['show_id', 'title', 'type', 'director', 'year_film', 'rating', 'duration', 'listed_in', \n",
    "                        'description']].copy()\n",
<<<<<<< HEAD
=======
    "new_netflix_df = new_netflix_df.rename(columns={\"show_id\":\"netflix_id\"})\n",
>>>>>>> cindy
    "new_netflix_df.head()"
   ]
  },
  {
<<<<<<< HEAD
   "cell_type": "code",
   "execution_count": 6,
   "metadata": {},
   "outputs": [
    {
     "data": {
      "text/plain": [
       "show_id         int64\n",
       "title          object\n",
       "type           object\n",
       "director       object\n",
       "year_film       int64\n",
       "rating         object\n",
       "duration       object\n",
       "listed_in      object\n",
       "description    object\n",
       "dtype: object"
      ]
     },
     "execution_count": 6,
     "metadata": {},
     "output_type": "execute_result"
    }
   ],
   "source": [
    "new_netflix_df.dtypes"
=======
   "cell_type": "markdown",
   "metadata": {},
   "source": [
    "# Transformation on the Golden Globe data"
>>>>>>> cindy
   ]
  },
  {
   "cell_type": "code",
<<<<<<< HEAD
   "execution_count": 7,
=======
   "execution_count": 6,
>>>>>>> cindy
   "metadata": {},
   "outputs": [
    {
     "data": {
      "text/html": [
       "<div>\n",
       "<style scoped>\n",
       "    .dataframe tbody tr th:only-of-type {\n",
       "        vertical-align: middle;\n",
       "    }\n",
       "\n",
       "    .dataframe tbody tr th {\n",
       "        vertical-align: top;\n",
       "    }\n",
       "\n",
       "    .dataframe thead th {\n",
       "        text-align: right;\n",
       "    }\n",
       "</style>\n",
       "<table border=\"1\" class=\"dataframe\">\n",
       "  <thead>\n",
       "    <tr style=\"text-align: right;\">\n",
       "      <th></th>\n",
<<<<<<< HEAD
       "      <th>Unnamed: 0</th>\n",
=======
       "      <th>id</th>\n",
>>>>>>> cindy
       "      <th>year_film</th>\n",
       "      <th>year_award</th>\n",
       "      <th>ceremony</th>\n",
       "      <th>category</th>\n",
       "      <th>nominee</th>\n",
       "      <th>title</th>\n",
       "      <th>win</th>\n",
       "    </tr>\n",
       "  </thead>\n",
       "  <tbody>\n",
       "    <tr>\n",
       "      <td>0</td>\n",
       "      <td>0</td>\n",
       "      <td>1943</td>\n",
       "      <td>1944</td>\n",
       "      <td>1</td>\n",
       "      <td>Best Performance by an Actress in a Supporting...</td>\n",
       "      <td>Katina Paxinou</td>\n",
       "      <td>FOR WHOM THE BELL TOLLS</td>\n",
       "      <td>True</td>\n",
       "    </tr>\n",
       "    <tr>\n",
       "      <td>1</td>\n",
       "      <td>1</td>\n",
       "      <td>1943</td>\n",
       "      <td>1944</td>\n",
       "      <td>1</td>\n",
       "      <td>Best Performance by an Actor in a Supporting R...</td>\n",
       "      <td>Akim Tamiroff</td>\n",
       "      <td>FOR WHOM THE BELL TOLLS</td>\n",
       "      <td>True</td>\n",
       "    </tr>\n",
       "    <tr>\n",
       "      <td>2</td>\n",
       "      <td>2</td>\n",
       "      <td>1943</td>\n",
       "      <td>1944</td>\n",
       "      <td>1</td>\n",
       "      <td>Best Director - Motion Picture</td>\n",
       "      <td>Henry King</td>\n",
       "      <td>THE SONG OF BERNADETTE</td>\n",
       "      <td>True</td>\n",
       "    </tr>\n",
       "    <tr>\n",
       "      <td>3</td>\n",
       "      <td>3</td>\n",
       "      <td>1943</td>\n",
       "      <td>1944</td>\n",
       "      <td>1</td>\n",
       "      <td>Picture</td>\n",
       "      <td>The Song Of Bernadette</td>\n",
       "      <td>THE SONG OF BERNADETTE</td>\n",
       "      <td>True</td>\n",
       "    </tr>\n",
       "    <tr>\n",
       "      <td>4</td>\n",
       "      <td>4</td>\n",
       "      <td>1943</td>\n",
       "      <td>1944</td>\n",
       "      <td>1</td>\n",
       "      <td>Actress In A Leading Role</td>\n",
       "      <td>Jennifer Jones</td>\n",
       "      <td>THE SONG OF BERNADETTE</td>\n",
       "      <td>True</td>\n",
       "    </tr>\n",
       "  </tbody>\n",
       "</table>\n",
       "</div>"
      ],
      "text/plain": [
<<<<<<< HEAD
       "   Unnamed: 0  year_film  year_award  ceremony  \\\n",
       "0           0       1943        1944         1   \n",
       "1           1       1943        1944         1   \n",
       "2           2       1943        1944         1   \n",
       "3           3       1943        1944         1   \n",
       "4           4       1943        1944         1   \n",
=======
       "   id  year_film  year_award  ceremony  \\\n",
       "0   0       1943        1944         1   \n",
       "1   1       1943        1944         1   \n",
       "2   2       1943        1944         1   \n",
       "3   3       1943        1944         1   \n",
       "4   4       1943        1944         1   \n",
>>>>>>> cindy
       "\n",
       "                                            category                 nominee  \\\n",
       "0  Best Performance by an Actress in a Supporting...          Katina Paxinou   \n",
       "1  Best Performance by an Actor in a Supporting R...           Akim Tamiroff   \n",
       "2                     Best Director - Motion Picture              Henry King   \n",
       "3                                            Picture  The Song Of Bernadette   \n",
       "4                          Actress In A Leading Role          Jennifer Jones   \n",
       "\n",
       "                     title   win  \n",
       "0  FOR WHOM THE BELL TOLLS  True  \n",
       "1  FOR WHOM THE BELL TOLLS  True  \n",
       "2   THE SONG OF BERNADETTE  True  \n",
       "3   THE SONG OF BERNADETTE  True  \n",
       "4   THE SONG OF BERNADETTE  True  "
      ]
     },
<<<<<<< HEAD
     "execution_count": 7,
=======
     "execution_count": 6,
>>>>>>> cindy
     "metadata": {},
     "output_type": "execute_result"
    }
   ],
   "source": [
    "gg_df.head()"
   ]
  },
  {
<<<<<<< HEAD
   "cell_type": "markdown",
   "metadata": {},
   "source": [
    "# Create new Golden Globes dataframe with select columns rearranged"
=======
   "cell_type": "code",
   "execution_count": 8,
   "metadata": {},
   "outputs": [],
   "source": [
    "# Change the datatypes from int to string because of merge/NaN affects.\n",
    "\n",
    "gg_df['year_film'] = gg_df['year_film'].apply(str)\n",
    "gg_df['year_award'] = gg_df['year_award'].apply(str)\n"
   ]
  },
  {
   "cell_type": "markdown",
   "metadata": {},
   "source": [
    "# Create new Golden Globes dataframe with select columns rearranged.  This data is merged with the Netflix data on title to acquire the foreign key."
>>>>>>> cindy
   ]
  },
  {
   "cell_type": "code",
<<<<<<< HEAD
   "execution_count": 8,
=======
   "execution_count": 9,
>>>>>>> cindy
   "metadata": {},
   "outputs": [
    {
     "data": {
      "text/html": [
       "<div>\n",
       "<style scoped>\n",
       "    .dataframe tbody tr th:only-of-type {\n",
       "        vertical-align: middle;\n",
       "    }\n",
       "\n",
       "    .dataframe tbody tr th {\n",
       "        vertical-align: top;\n",
       "    }\n",
       "\n",
       "    .dataframe thead th {\n",
       "        text-align: right;\n",
       "    }\n",
       "</style>\n",
       "<table border=\"1\" class=\"dataframe\">\n",
       "  <thead>\n",
       "    <tr style=\"text-align: right;\">\n",
       "      <th></th>\n",
<<<<<<< HEAD
=======
       "      <th>id</th>\n",
>>>>>>> cindy
       "      <th>title</th>\n",
       "      <th>year_film</th>\n",
       "      <th>year_award</th>\n",
       "      <th>category</th>\n",
       "      <th>nominee</th>\n",
       "      <th>win</th>\n",
       "    </tr>\n",
       "  </thead>\n",
       "  <tbody>\n",
       "    <tr>\n",
       "      <td>0</td>\n",
<<<<<<< HEAD
=======
       "      <td>0</td>\n",
>>>>>>> cindy
       "      <td>FOR WHOM THE BELL TOLLS</td>\n",
       "      <td>1943</td>\n",
       "      <td>1944</td>\n",
       "      <td>Best Performance by an Actress in a Supporting...</td>\n",
       "      <td>Katina Paxinou</td>\n",
       "      <td>True</td>\n",
       "    </tr>\n",
       "    <tr>\n",
       "      <td>1</td>\n",
<<<<<<< HEAD
=======
       "      <td>1</td>\n",
>>>>>>> cindy
       "      <td>FOR WHOM THE BELL TOLLS</td>\n",
       "      <td>1943</td>\n",
       "      <td>1944</td>\n",
       "      <td>Best Performance by an Actor in a Supporting R...</td>\n",
       "      <td>Akim Tamiroff</td>\n",
       "      <td>True</td>\n",
       "    </tr>\n",
       "    <tr>\n",
       "      <td>2</td>\n",
<<<<<<< HEAD
=======
       "      <td>2</td>\n",
>>>>>>> cindy
       "      <td>THE SONG OF BERNADETTE</td>\n",
       "      <td>1943</td>\n",
       "      <td>1944</td>\n",
       "      <td>Best Director - Motion Picture</td>\n",
       "      <td>Henry King</td>\n",
       "      <td>True</td>\n",
       "    </tr>\n",
       "    <tr>\n",
       "      <td>3</td>\n",
<<<<<<< HEAD
=======
       "      <td>3</td>\n",
>>>>>>> cindy
       "      <td>THE SONG OF BERNADETTE</td>\n",
       "      <td>1943</td>\n",
       "      <td>1944</td>\n",
       "      <td>Picture</td>\n",
       "      <td>The Song Of Bernadette</td>\n",
       "      <td>True</td>\n",
       "    </tr>\n",
       "    <tr>\n",
       "      <td>4</td>\n",
<<<<<<< HEAD
=======
       "      <td>4</td>\n",
>>>>>>> cindy
       "      <td>THE SONG OF BERNADETTE</td>\n",
       "      <td>1943</td>\n",
       "      <td>1944</td>\n",
       "      <td>Actress In A Leading Role</td>\n",
       "      <td>Jennifer Jones</td>\n",
       "      <td>True</td>\n",
       "    </tr>\n",
       "  </tbody>\n",
       "</table>\n",
       "</div>"
      ],
      "text/plain": [
<<<<<<< HEAD
       "                     title  year_film  year_award  \\\n",
       "0  FOR WHOM THE BELL TOLLS       1943        1944   \n",
       "1  FOR WHOM THE BELL TOLLS       1943        1944   \n",
       "2   THE SONG OF BERNADETTE       1943        1944   \n",
       "3   THE SONG OF BERNADETTE       1943        1944   \n",
       "4   THE SONG OF BERNADETTE       1943        1944   \n",
=======
       "   id                    title year_film year_award  \\\n",
       "0   0  FOR WHOM THE BELL TOLLS      1943       1944   \n",
       "1   1  FOR WHOM THE BELL TOLLS      1943       1944   \n",
       "2   2   THE SONG OF BERNADETTE      1943       1944   \n",
       "3   3   THE SONG OF BERNADETTE      1943       1944   \n",
       "4   4   THE SONG OF BERNADETTE      1943       1944   \n",
>>>>>>> cindy
       "\n",
       "                                            category                 nominee  \\\n",
       "0  Best Performance by an Actress in a Supporting...          Katina Paxinou   \n",
       "1  Best Performance by an Actor in a Supporting R...           Akim Tamiroff   \n",
       "2                     Best Director - Motion Picture              Henry King   \n",
       "3                                            Picture  The Song Of Bernadette   \n",
       "4                          Actress In A Leading Role          Jennifer Jones   \n",
       "\n",
       "    win  \n",
       "0  True  \n",
       "1  True  \n",
       "2  True  \n",
       "3  True  \n",
       "4  True  "
      ]
     },
<<<<<<< HEAD
     "execution_count": 8,
=======
     "execution_count": 9,
>>>>>>> cindy
     "metadata": {},
     "output_type": "execute_result"
    }
   ],
   "source": [
<<<<<<< HEAD
    "#  ???  What goes in the 'id' field on the DB???\n",
    "new_gg_df = gg_df[['title', 'year_film', 'year_award', 'category', 'nominee', 'win']].copy()\n",
=======
    " \n",
    "new_gg_df = gg_df[['id', 'title', 'year_film', 'year_award', 'category', 'nominee', 'win']].copy()\n",
>>>>>>> cindy
    "new_gg_df.head()"
   ]
  },
  {
   "cell_type": "code",
<<<<<<< HEAD
   "execution_count": 9,
=======
   "execution_count": 10,
>>>>>>> cindy
   "metadata": {},
   "outputs": [
    {
     "data": {
<<<<<<< HEAD
      "text/plain": [
       "Unnamed: 0     int64\n",
       "year_film      int64\n",
       "year_award     int64\n",
       "ceremony       int64\n",
       "category      object\n",
       "nominee       object\n",
       "title         object\n",
       "win             bool\n",
       "dtype: object"
      ]
     },
     "execution_count": 9,
=======
      "text/html": [
       "<div>\n",
       "<style scoped>\n",
       "    .dataframe tbody tr th:only-of-type {\n",
       "        vertical-align: middle;\n",
       "    }\n",
       "\n",
       "    .dataframe tbody tr th {\n",
       "        vertical-align: top;\n",
       "    }\n",
       "\n",
       "    .dataframe thead th {\n",
       "        text-align: right;\n",
       "    }\n",
       "</style>\n",
       "<table border=\"1\" class=\"dataframe\">\n",
       "  <thead>\n",
       "    <tr style=\"text-align: right;\">\n",
       "      <th></th>\n",
       "      <th>netflix_id</th>\n",
       "      <th>title</th>\n",
       "      <th>type</th>\n",
       "      <th>director</th>\n",
       "      <th>year_film_x</th>\n",
       "      <th>rating</th>\n",
       "      <th>duration</th>\n",
       "      <th>listed_in</th>\n",
       "      <th>description</th>\n",
       "      <th>id</th>\n",
       "      <th>year_film_y</th>\n",
       "      <th>year_award</th>\n",
       "      <th>category</th>\n",
       "      <th>nominee</th>\n",
       "      <th>win</th>\n",
       "    </tr>\n",
       "  </thead>\n",
       "  <tbody>\n",
       "    <tr>\n",
       "      <td>12</td>\n",
       "      <td>80057969</td>\n",
       "      <td>LOVE</td>\n",
       "      <td>Movie</td>\n",
       "      <td>Gaspar Noé</td>\n",
       "      <td>2015</td>\n",
       "      <td>NR</td>\n",
       "      <td>135 min</td>\n",
       "      <td>Cult Movies, Dramas, Independent Movies</td>\n",
       "      <td>A man in an unsatisfying marriage recalls the ...</td>\n",
       "      <td>2161.0</td>\n",
       "      <td>1973</td>\n",
       "      <td>1974</td>\n",
       "      <td>Documentary</td>\n",
       "      <td>Love</td>\n",
       "      <td>False</td>\n",
       "    </tr>\n",
       "    <tr>\n",
       "      <td>46</td>\n",
       "      <td>80201906</td>\n",
       "      <td>BLACK PANTHER</td>\n",
       "      <td>Movie</td>\n",
       "      <td>Ryan Coogler</td>\n",
       "      <td>2018</td>\n",
       "      <td>PG-13</td>\n",
       "      <td>135 min</td>\n",
       "      <td>Action &amp; Adventure, Sci-Fi &amp; Fantasy</td>\n",
       "      <td>T'Challa, the superpowered new leader of the h...</td>\n",
       "      <td>7741.0</td>\n",
       "      <td>2018</td>\n",
       "      <td>2019</td>\n",
       "      <td>Best Motion Picture - Drama</td>\n",
       "      <td>Black Panther</td>\n",
       "      <td>False</td>\n",
       "    </tr>\n",
       "    <tr>\n",
       "      <td>47</td>\n",
       "      <td>80201906</td>\n",
       "      <td>BLACK PANTHER</td>\n",
       "      <td>Movie</td>\n",
       "      <td>Ryan Coogler</td>\n",
       "      <td>2018</td>\n",
       "      <td>PG-13</td>\n",
       "      <td>135 min</td>\n",
       "      <td>Action &amp; Adventure, Sci-Fi &amp; Fantasy</td>\n",
       "      <td>T'Challa, the superpowered new leader of the h...</td>\n",
       "      <td>7800.0</td>\n",
       "      <td>2018</td>\n",
       "      <td>2019</td>\n",
       "      <td>Best Original Score - Motion Picture</td>\n",
       "      <td>Ludwig Göransson</td>\n",
       "      <td>False</td>\n",
       "    </tr>\n",
       "    <tr>\n",
       "      <td>48</td>\n",
       "      <td>80201906</td>\n",
       "      <td>BLACK PANTHER</td>\n",
       "      <td>Movie</td>\n",
       "      <td>Ryan Coogler</td>\n",
       "      <td>2018</td>\n",
       "      <td>PG-13</td>\n",
       "      <td>135 min</td>\n",
       "      <td>Action &amp; Adventure, Sci-Fi &amp; Fantasy</td>\n",
       "      <td>T'Challa, the superpowered new leader of the h...</td>\n",
       "      <td>7803.0</td>\n",
       "      <td>2018</td>\n",
       "      <td>2019</td>\n",
       "      <td>Best Original Song - Motion Picture</td>\n",
       "      <td>All The Stars</td>\n",
       "      <td>False</td>\n",
       "    </tr>\n",
       "    <tr>\n",
       "      <td>213</td>\n",
       "      <td>60031232</td>\n",
       "      <td>MYSTIC RIVER</td>\n",
       "      <td>Movie</td>\n",
       "      <td>Clint Eastwood</td>\n",
       "      <td>2003</td>\n",
       "      <td>R</td>\n",
       "      <td>138 min</td>\n",
       "      <td>Dramas, Thrillers</td>\n",
       "      <td>Tragedy reunites childhood friends Sean, Dave ...</td>\n",
       "      <td>5852.0</td>\n",
       "      <td>2003</td>\n",
       "      <td>2004</td>\n",
       "      <td>Best Motion Picture - Drama</td>\n",
       "      <td>Mystic River</td>\n",
       "      <td>False</td>\n",
       "    </tr>\n",
       "    <tr>\n",
       "      <td>...</td>\n",
       "      <td>...</td>\n",
       "      <td>...</td>\n",
       "      <td>...</td>\n",
       "      <td>...</td>\n",
       "      <td>...</td>\n",
       "      <td>...</td>\n",
       "      <td>...</td>\n",
       "      <td>...</td>\n",
       "      <td>...</td>\n",
       "      <td>...</td>\n",
       "      <td>...</td>\n",
       "      <td>...</td>\n",
       "      <td>...</td>\n",
       "      <td>...</td>\n",
       "      <td>...</td>\n",
       "    </tr>\n",
       "    <tr>\n",
       "      <td>4428</td>\n",
       "      <td>60036359</td>\n",
       "      <td>SCHINDLER'S LIST</td>\n",
       "      <td>Movie</td>\n",
       "      <td>Steven Spielberg</td>\n",
       "      <td>1993</td>\n",
       "      <td>R</td>\n",
       "      <td>195 min</td>\n",
       "      <td>Classic Movies, Dramas</td>\n",
       "      <td>Oskar Schindler becomes an unlikely humanitari...</td>\n",
       "      <td>4643.0</td>\n",
       "      <td>1993</td>\n",
       "      <td>1994</td>\n",
       "      <td>Best Original Score - Motion Picture</td>\n",
       "      <td>John Williams</td>\n",
       "      <td>False</td>\n",
       "    </tr>\n",
       "    <tr>\n",
       "      <td>4487</td>\n",
       "      <td>70142436</td>\n",
       "      <td>MERLIN</td>\n",
       "      <td>TV Show</td>\n",
       "      <td>James Hawes</td>\n",
       "      <td>2012</td>\n",
       "      <td>TV-PG</td>\n",
       "      <td>5 Seasons</td>\n",
       "      <td>British TV Shows, International TV Shows, TV A...</td>\n",
       "      <td>This family-oriented retelling of the King Art...</td>\n",
       "      <td>5289.0</td>\n",
       "      <td>1998</td>\n",
       "      <td>1999</td>\n",
       "      <td>Best Television Limited Series or Motion Pictu...</td>\n",
       "      <td>Merlin</td>\n",
       "      <td>False</td>\n",
       "    </tr>\n",
       "    <tr>\n",
       "      <td>4488</td>\n",
       "      <td>70142436</td>\n",
       "      <td>MERLIN</td>\n",
       "      <td>TV Show</td>\n",
       "      <td>James Hawes</td>\n",
       "      <td>2012</td>\n",
       "      <td>TV-PG</td>\n",
       "      <td>5 Seasons</td>\n",
       "      <td>British TV Shows, International TV Shows, TV A...</td>\n",
       "      <td>This family-oriented retelling of the King Art...</td>\n",
       "      <td>5294.0</td>\n",
       "      <td>1998</td>\n",
       "      <td>1999</td>\n",
       "      <td>Best Performance by an Actress in a Limited Se...</td>\n",
       "      <td>Miranda Richardson</td>\n",
       "      <td>False</td>\n",
       "    </tr>\n",
       "    <tr>\n",
       "      <td>4489</td>\n",
       "      <td>70142436</td>\n",
       "      <td>MERLIN</td>\n",
       "      <td>TV Show</td>\n",
       "      <td>James Hawes</td>\n",
       "      <td>2012</td>\n",
       "      <td>TV-PG</td>\n",
       "      <td>5 Seasons</td>\n",
       "      <td>British TV Shows, International TV Shows, TV A...</td>\n",
       "      <td>This family-oriented retelling of the King Art...</td>\n",
       "      <td>5297.0</td>\n",
       "      <td>1998</td>\n",
       "      <td>1999</td>\n",
       "      <td>Best Performance by an Actor in a Limited Seri...</td>\n",
       "      <td>Sam Neill</td>\n",
       "      <td>False</td>\n",
       "    </tr>\n",
       "    <tr>\n",
       "      <td>4490</td>\n",
       "      <td>70142436</td>\n",
       "      <td>MERLIN</td>\n",
       "      <td>TV Show</td>\n",
       "      <td>James Hawes</td>\n",
       "      <td>2012</td>\n",
       "      <td>TV-PG</td>\n",
       "      <td>5 Seasons</td>\n",
       "      <td>British TV Shows, International TV Shows, TV A...</td>\n",
       "      <td>This family-oriented retelling of the King Art...</td>\n",
       "      <td>5326.0</td>\n",
       "      <td>1998</td>\n",
       "      <td>1999</td>\n",
       "      <td>Best Performance by an Actress in a Supporting...</td>\n",
       "      <td>Helena Bonham Carter</td>\n",
       "      <td>False</td>\n",
       "    </tr>\n",
       "  </tbody>\n",
       "</table>\n",
       "<p>399 rows × 15 columns</p>\n",
       "</div>"
      ],
      "text/plain": [
       "      netflix_id             title     type          director  year_film_x  \\\n",
       "12      80057969              LOVE    Movie        Gaspar Noé         2015   \n",
       "46      80201906     BLACK PANTHER    Movie      Ryan Coogler         2018   \n",
       "47      80201906     BLACK PANTHER    Movie      Ryan Coogler         2018   \n",
       "48      80201906     BLACK PANTHER    Movie      Ryan Coogler         2018   \n",
       "213     60031232      MYSTIC RIVER    Movie    Clint Eastwood         2003   \n",
       "...          ...               ...      ...               ...          ...   \n",
       "4428    60036359  SCHINDLER'S LIST    Movie  Steven Spielberg         1993   \n",
       "4487    70142436            MERLIN  TV Show       James Hawes         2012   \n",
       "4488    70142436            MERLIN  TV Show       James Hawes         2012   \n",
       "4489    70142436            MERLIN  TV Show       James Hawes         2012   \n",
       "4490    70142436            MERLIN  TV Show       James Hawes         2012   \n",
       "\n",
       "     rating   duration                                          listed_in  \\\n",
       "12       NR    135 min            Cult Movies, Dramas, Independent Movies   \n",
       "46    PG-13    135 min               Action & Adventure, Sci-Fi & Fantasy   \n",
       "47    PG-13    135 min               Action & Adventure, Sci-Fi & Fantasy   \n",
       "48    PG-13    135 min               Action & Adventure, Sci-Fi & Fantasy   \n",
       "213       R    138 min                                  Dramas, Thrillers   \n",
       "...     ...        ...                                                ...   \n",
       "4428      R    195 min                             Classic Movies, Dramas   \n",
       "4487  TV-PG  5 Seasons  British TV Shows, International TV Shows, TV A...   \n",
       "4488  TV-PG  5 Seasons  British TV Shows, International TV Shows, TV A...   \n",
       "4489  TV-PG  5 Seasons  British TV Shows, International TV Shows, TV A...   \n",
       "4490  TV-PG  5 Seasons  British TV Shows, International TV Shows, TV A...   \n",
       "\n",
       "                                            description      id year_film_y  \\\n",
       "12    A man in an unsatisfying marriage recalls the ...  2161.0        1973   \n",
       "46    T'Challa, the superpowered new leader of the h...  7741.0        2018   \n",
       "47    T'Challa, the superpowered new leader of the h...  7800.0        2018   \n",
       "48    T'Challa, the superpowered new leader of the h...  7803.0        2018   \n",
       "213   Tragedy reunites childhood friends Sean, Dave ...  5852.0        2003   \n",
       "...                                                 ...     ...         ...   \n",
       "4428  Oskar Schindler becomes an unlikely humanitari...  4643.0        1993   \n",
       "4487  This family-oriented retelling of the King Art...  5289.0        1998   \n",
       "4488  This family-oriented retelling of the King Art...  5294.0        1998   \n",
       "4489  This family-oriented retelling of the King Art...  5297.0        1998   \n",
       "4490  This family-oriented retelling of the King Art...  5326.0        1998   \n",
       "\n",
       "     year_award                                           category  \\\n",
       "12         1974                                        Documentary   \n",
       "46         2019                        Best Motion Picture - Drama   \n",
       "47         2019               Best Original Score - Motion Picture   \n",
       "48         2019                Best Original Song - Motion Picture   \n",
       "213        2004                        Best Motion Picture - Drama   \n",
       "...         ...                                                ...   \n",
       "4428       1994               Best Original Score - Motion Picture   \n",
       "4487       1999  Best Television Limited Series or Motion Pictu...   \n",
       "4488       1999  Best Performance by an Actress in a Limited Se...   \n",
       "4489       1999  Best Performance by an Actor in a Limited Seri...   \n",
       "4490       1999  Best Performance by an Actress in a Supporting...   \n",
       "\n",
       "                   nominee    win  \n",
       "12                    Love  False  \n",
       "46           Black Panther  False  \n",
       "47        Ludwig Göransson  False  \n",
       "48           All The Stars  False  \n",
       "213           Mystic River  False  \n",
       "...                    ...    ...  \n",
       "4428         John Williams  False  \n",
       "4487                Merlin  False  \n",
       "4488    Miranda Richardson  False  \n",
       "4489             Sam Neill  False  \n",
       "4490  Helena Bonham Carter  False  \n",
       "\n",
       "[399 rows x 15 columns]"
      ]
     },
     "execution_count": 10,
>>>>>>> cindy
     "metadata": {},
     "output_type": "execute_result"
    }
   ],
   "source": [
<<<<<<< HEAD
    "new_gg_df.dtypes"
   ]
  },
  {
   "cell_type": "markdown",
   "metadata": {},
   "source": [
    "# Connect to local database"
=======
    "merge_df = pd.merge(new_netflix_df, new_gg_df, on='title', how='left').dropna()\n",
    "merge_df"
>>>>>>> cindy
   ]
  },
  {
   "cell_type": "code",
<<<<<<< HEAD
   "execution_count": 11,
   "metadata": {},
   "outputs": [],
   "source": [
    "\n",
    "connection_string = \"postgres:postgres@localhost:5432/netflix_gg_db\"\n",
    "engine = create_engine(f'postgresql://{connection_string}')"
=======
   "execution_count": 12,
   "metadata": {},
   "outputs": [
    {
     "data": {
      "text/html": [
       "<div>\n",
       "<style scoped>\n",
       "    .dataframe tbody tr th:only-of-type {\n",
       "        vertical-align: middle;\n",
       "    }\n",
       "\n",
       "    .dataframe tbody tr th {\n",
       "        vertical-align: top;\n",
       "    }\n",
       "\n",
       "    .dataframe thead th {\n",
       "        text-align: right;\n",
       "    }\n",
       "</style>\n",
       "<table border=\"1\" class=\"dataframe\">\n",
       "  <thead>\n",
       "    <tr style=\"text-align: right;\">\n",
       "      <th></th>\n",
       "      <th>id</th>\n",
       "      <th>netflix_id</th>\n",
       "      <th>title</th>\n",
       "      <th>year_film_y</th>\n",
       "      <th>year_award</th>\n",
       "      <th>category</th>\n",
       "      <th>nominee</th>\n",
       "      <th>win</th>\n",
       "    </tr>\n",
       "  </thead>\n",
       "  <tbody>\n",
       "    <tr>\n",
       "      <td>12</td>\n",
       "      <td>2161</td>\n",
       "      <td>80057969</td>\n",
       "      <td>LOVE</td>\n",
       "      <td>1973</td>\n",
       "      <td>1974</td>\n",
       "      <td>Documentary</td>\n",
       "      <td>Love</td>\n",
       "      <td>False</td>\n",
       "    </tr>\n",
       "    <tr>\n",
       "      <td>46</td>\n",
       "      <td>7741</td>\n",
       "      <td>80201906</td>\n",
       "      <td>BLACK PANTHER</td>\n",
       "      <td>2018</td>\n",
       "      <td>2019</td>\n",
       "      <td>Best Motion Picture - Drama</td>\n",
       "      <td>Black Panther</td>\n",
       "      <td>False</td>\n",
       "    </tr>\n",
       "    <tr>\n",
       "      <td>47</td>\n",
       "      <td>7800</td>\n",
       "      <td>80201906</td>\n",
       "      <td>BLACK PANTHER</td>\n",
       "      <td>2018</td>\n",
       "      <td>2019</td>\n",
       "      <td>Best Original Score - Motion Picture</td>\n",
       "      <td>Ludwig Göransson</td>\n",
       "      <td>False</td>\n",
       "    </tr>\n",
       "    <tr>\n",
       "      <td>48</td>\n",
       "      <td>7803</td>\n",
       "      <td>80201906</td>\n",
       "      <td>BLACK PANTHER</td>\n",
       "      <td>2018</td>\n",
       "      <td>2019</td>\n",
       "      <td>Best Original Song - Motion Picture</td>\n",
       "      <td>All The Stars</td>\n",
       "      <td>False</td>\n",
       "    </tr>\n",
       "    <tr>\n",
       "      <td>213</td>\n",
       "      <td>5852</td>\n",
       "      <td>60031232</td>\n",
       "      <td>MYSTIC RIVER</td>\n",
       "      <td>2003</td>\n",
       "      <td>2004</td>\n",
       "      <td>Best Motion Picture - Drama</td>\n",
       "      <td>Mystic River</td>\n",
       "      <td>False</td>\n",
       "    </tr>\n",
       "  </tbody>\n",
       "</table>\n",
       "</div>"
      ],
      "text/plain": [
       "       id  netflix_id          title year_film_y year_award  \\\n",
       "12   2161    80057969           LOVE        1973       1974   \n",
       "46   7741    80201906  BLACK PANTHER        2018       2019   \n",
       "47   7800    80201906  BLACK PANTHER        2018       2019   \n",
       "48   7803    80201906  BLACK PANTHER        2018       2019   \n",
       "213  5852    60031232   MYSTIC RIVER        2003       2004   \n",
       "\n",
       "                                 category           nominee    win  \n",
       "12                            Documentary              Love  False  \n",
       "46            Best Motion Picture - Drama     Black Panther  False  \n",
       "47   Best Original Score - Motion Picture  Ludwig Göransson  False  \n",
       "48    Best Original Song - Motion Picture     All The Stars  False  \n",
       "213           Best Motion Picture - Drama      Mystic River  False  "
      ]
     },
     "execution_count": 12,
     "metadata": {},
     "output_type": "execute_result"
    }
   ],
   "source": [
    "# The datatype for 'id' was changed because of the merge (NaN values) so we changed it back to int.\n",
    "# Select only specific columns needed for the new Golden Globe dataframe.\n",
    "\n",
    "merge_df['id'] = merge_df['id'].apply(int)\n",
    "new_gg_df = merge_df[['id', 'netflix_id', 'title', 'year_film_y', 'year_award', 'category', 'nominee', 'win']].copy()\n",
    "new_gg_df.head()"
>>>>>>> cindy
   ]
  },
  {
   "cell_type": "code",
<<<<<<< HEAD
   "execution_count": 12,
=======
   "execution_count": 13,
>>>>>>> cindy
   "metadata": {},
   "outputs": [
    {
     "data": {
<<<<<<< HEAD
      "text/plain": [
       "['netflix', 'golden_globe']"
      ]
     },
     "execution_count": 12,
=======
      "text/html": [
       "<div>\n",
       "<style scoped>\n",
       "    .dataframe tbody tr th:only-of-type {\n",
       "        vertical-align: middle;\n",
       "    }\n",
       "\n",
       "    .dataframe tbody tr th {\n",
       "        vertical-align: top;\n",
       "    }\n",
       "\n",
       "    .dataframe thead th {\n",
       "        text-align: right;\n",
       "    }\n",
       "</style>\n",
       "<table border=\"1\" class=\"dataframe\">\n",
       "  <thead>\n",
       "    <tr style=\"text-align: right;\">\n",
       "      <th></th>\n",
       "      <th>gg_id</th>\n",
       "      <th>netflix_id</th>\n",
       "      <th>title</th>\n",
       "      <th>year_film</th>\n",
       "      <th>year_award</th>\n",
       "      <th>category</th>\n",
       "      <th>nominee</th>\n",
       "      <th>win</th>\n",
       "    </tr>\n",
       "  </thead>\n",
       "  <tbody>\n",
       "    <tr>\n",
       "      <td>12</td>\n",
       "      <td>2161</td>\n",
       "      <td>80057969</td>\n",
       "      <td>LOVE</td>\n",
       "      <td>1973</td>\n",
       "      <td>1974</td>\n",
       "      <td>Documentary</td>\n",
       "      <td>Love</td>\n",
       "      <td>False</td>\n",
       "    </tr>\n",
       "    <tr>\n",
       "      <td>46</td>\n",
       "      <td>7741</td>\n",
       "      <td>80201906</td>\n",
       "      <td>BLACK PANTHER</td>\n",
       "      <td>2018</td>\n",
       "      <td>2019</td>\n",
       "      <td>Best Motion Picture - Drama</td>\n",
       "      <td>Black Panther</td>\n",
       "      <td>False</td>\n",
       "    </tr>\n",
       "    <tr>\n",
       "      <td>47</td>\n",
       "      <td>7800</td>\n",
       "      <td>80201906</td>\n",
       "      <td>BLACK PANTHER</td>\n",
       "      <td>2018</td>\n",
       "      <td>2019</td>\n",
       "      <td>Best Original Score - Motion Picture</td>\n",
       "      <td>Ludwig Göransson</td>\n",
       "      <td>False</td>\n",
       "    </tr>\n",
       "    <tr>\n",
       "      <td>48</td>\n",
       "      <td>7803</td>\n",
       "      <td>80201906</td>\n",
       "      <td>BLACK PANTHER</td>\n",
       "      <td>2018</td>\n",
       "      <td>2019</td>\n",
       "      <td>Best Original Song - Motion Picture</td>\n",
       "      <td>All The Stars</td>\n",
       "      <td>False</td>\n",
       "    </tr>\n",
       "    <tr>\n",
       "      <td>213</td>\n",
       "      <td>5852</td>\n",
       "      <td>60031232</td>\n",
       "      <td>MYSTIC RIVER</td>\n",
       "      <td>2003</td>\n",
       "      <td>2004</td>\n",
       "      <td>Best Motion Picture - Drama</td>\n",
       "      <td>Mystic River</td>\n",
       "      <td>False</td>\n",
       "    </tr>\n",
       "  </tbody>\n",
       "</table>\n",
       "</div>"
      ],
      "text/plain": [
       "     gg_id  netflix_id          title year_film year_award  \\\n",
       "12    2161    80057969           LOVE      1973       1974   \n",
       "46    7741    80201906  BLACK PANTHER      2018       2019   \n",
       "47    7800    80201906  BLACK PANTHER      2018       2019   \n",
       "48    7803    80201906  BLACK PANTHER      2018       2019   \n",
       "213   5852    60031232   MYSTIC RIVER      2003       2004   \n",
       "\n",
       "                                 category           nominee    win  \n",
       "12                            Documentary              Love  False  \n",
       "46            Best Motion Picture - Drama     Black Panther  False  \n",
       "47   Best Original Score - Motion Picture  Ludwig Göransson  False  \n",
       "48    Best Original Song - Motion Picture     All The Stars  False  \n",
       "213           Best Motion Picture - Drama      Mystic River  False  "
      ]
     },
     "execution_count": 13,
>>>>>>> cindy
     "metadata": {},
     "output_type": "execute_result"
    }
   ],
   "source": [
<<<<<<< HEAD
    "engine.table_names()"
=======
    "# Rename columns to match the database table\n",
    "\n",
    "renamed_gg_df = new_gg_df.rename(columns={\"id\": \"gg_id\", \"year_film_y\":\"year_film\"})\n",
    "renamed_gg_df.head()"
>>>>>>> cindy
   ]
  },
  {
   "cell_type": "markdown",
   "metadata": {},
   "source": [
<<<<<<< HEAD
    "# Load the data into the database tables"
=======
    "# Connect to local database"
>>>>>>> cindy
   ]
  },
  {
   "cell_type": "code",
   "execution_count": 14,
   "metadata": {},
<<<<<<< HEAD
   "outputs": [
    {
     "ename": "ProgrammingError",
     "evalue": "(psycopg2.errors.UndefinedColumn) column \"Unnamed: 0\" of relation \"netflix\" does not exist\nLINE 1: INSERT INTO netflix (\"Unnamed: 0\", show_id, type, title, dir...\n                             ^\n\n[SQL: INSERT INTO netflix (\"Unnamed: 0\", show_id, type, title, director, year_film, rating, duration, listed_in, description) VALUES (%(Unnamed: 0)s, %(show_id)s, %(type)s, %(title)s, %(director)s, %(year_film)s, %(rating)s, %(duration)s, %(listed_in)s, %(description)s)]\n[parameters: ({'Unnamed: 0': 0, 'show_id': 81145628, 'type': 'Movie', 'title': 'NORM OF THE NORTH: KING SIZED ADVENTURE', 'director': 'Richard Finn, Tim Maltby', 'year_film': 2019, 'rating': 'TV-PG', 'duration': '90 min', 'listed_in': 'Children & Family Movies, Comedies', 'description': 'Before planning an awesome wedding for his grandfather, a polar bear king must take back a stolen artifact from an evil archaeologist first.'}, {'Unnamed: 0': 4, 'show_id': 80125979, 'type': 'Movie', 'title': '#REALITYHIGH', 'director': 'Fernando Lebrija', 'year_film': 2017, 'rating': 'TV-14', 'duration': '99 min', 'listed_in': 'Comedies', 'description': 'When nerdy high schooler Dani finally attracts the interest of her longtime crush, she lands in the cross hairs of his ex, a social media celebrity.'}, {'Unnamed: 0': 6, 'show_id': 70304989, 'type': 'Movie', 'title': 'AUTOMATA', 'director': 'Gabe Ibáñez', 'year_film': 2014, 'rating': 'R', 'duration': '110 min', 'listed_in': 'International Movies, Sci-Fi & Fantasy, Thrillers', 'description': 'In a dystopian future, an insurance adjuster for a tech company investigates a robot killed for violating protocol and discovers a global conspiracy.'}, {'Unnamed: 0': 7, 'show_id': 80164077, 'type': 'Movie', 'title': 'FABRIZIO COPANO: SOLO PIENSO EN MI', 'director': 'Rodrigo Toro, Francisco Schultz', 'year_film': 2017, 'rating': 'TV-MA', 'duration': '60 min', 'listed_in': 'Stand-Up Comedy', 'description': 'Fabrizio Copano takes audience participation to the next level in this stand-up set while reflecting on sperm banks, family WhatsApp groups and more.'}, {'Unnamed: 0': 9, 'show_id': 70304990, 'type': 'Movie', 'title': 'GOOD PEOPLE', 'director': 'Henrik Ruben Genz', 'year_film': 2014, 'rating': 'R', 'duration': '90 min', 'listed_in': 'Action & Adventure, Thrillers', 'description': \"A struggling couple can't believe their luck when they find a stash of money in the apartment of a neighbor who was recently murdered.\"}, {'Unnamed: 0': 10, 'show_id': 80169755, 'type': 'Movie', 'title': 'JOAQUÍN REYES: UNA Y NO MÁS', 'director': 'José Miguel Contreras', 'year_film': 2017, 'rating': 'TV-MA', 'duration': '78 min', 'listed_in': 'Stand-Up Comedy', 'description': 'Comedian and celebrity impersonator Joaquín Reyes decides to be his zesty self for a night of stories about buses, bathroom habits, royalty and more.'}, {'Unnamed: 0': 11, 'show_id': 70299204, 'type': 'Movie', 'title': 'KIDNAPPING MR. HEINEKEN', 'director': 'Daniel Alfredson', 'year_film': 2015, 'rating': 'R', 'duration': '95 min', 'listed_in': 'Action & Adventure, Dramas, International Movies', 'description': 'When beer magnate Alfred \"Freddy\" Heineken is kidnapped in 1983, his abductors make the largest ransom demand in history.'}, {'Unnamed: 0': 13, 'show_id': 80182483, 'type': 'Movie', 'title': 'KRISH TRISH AND BALTIBOY: BATTLE OF WITS', 'director': 'Munjal Shroff, Tilak Shetty', 'year_film': 2013, 'rating': 'TV-Y7', 'duration': '62 min', 'listed_in': 'Children & Family Movies', 'description': 'An artisan is cheated of his payment, a lion of his throne and a brother of his inheritance in these three stories of deception and justice.'}  ... displaying 10 of 4259 total bound parameter sets ...  {'Unnamed: 0': 6182, 'show_id': 80176842, 'type': 'TV Show', 'title': 'MEN ON A MISSION', 'director': 'Jung-ah Im', 'year_film': 2019, 'rating': 'TV-14', 'duration': '4 Seasons', 'listed_in': 'International TV Shows, Korean TV Shows, Stand-Up Comedy & Talk Shows', 'description': 'Male celebs play make-believe as high schoolers, welcoming star transfer students every week and engaging in battles of witty humor and slapstick.'}, {'Unnamed: 0': 6213, 'show_id': 80126599, 'type': 'TV Show', 'title': 'LEYLA AND MECNUN', 'director': 'Onur Ünlü', 'year_film': 2014, 'rating': 'TV-PG', 'duration': '3 Seasons', 'listed_in': 'International TV Shows, Romantic TV Shows, TV Comedies', 'description': \"Destiny brings Mecnun and Leyla together as newborns, and again years later. Despite unexpected turns in Mecnun's zany life, Leyla remains a constant.\"})]\n(Background on this error at: http://sqlalche.me/e/f405)",
     "output_type": "error",
     "traceback": [
      "\u001b[1;31m---------------------------------------------------------------------------\u001b[0m",
      "\u001b[1;31mUndefinedColumn\u001b[0m                           Traceback (most recent call last)",
      "\u001b[1;32m~\\Anaconda3\\lib\\site-packages\\sqlalchemy\\engine\\base.py\u001b[0m in \u001b[0;36m_execute_context\u001b[1;34m(self, dialect, constructor, statement, parameters, *args)\u001b[0m\n\u001b[0;32m   1228\u001b[0m                     self.dialect.do_executemany(\n\u001b[1;32m-> 1229\u001b[1;33m                         \u001b[0mcursor\u001b[0m\u001b[1;33m,\u001b[0m \u001b[0mstatement\u001b[0m\u001b[1;33m,\u001b[0m \u001b[0mparameters\u001b[0m\u001b[1;33m,\u001b[0m \u001b[0mcontext\u001b[0m\u001b[1;33m\u001b[0m\u001b[1;33m\u001b[0m\u001b[0m\n\u001b[0m\u001b[0;32m   1230\u001b[0m                     )\n",
      "\u001b[1;32m~\\Anaconda3\\lib\\site-packages\\sqlalchemy\\dialects\\postgresql\\psycopg2.py\u001b[0m in \u001b[0;36mdo_executemany\u001b[1;34m(self, cursor, statement, parameters, context)\u001b[0m\n\u001b[0;32m    853\u001b[0m         \u001b[1;32mif\u001b[0m \u001b[0mself\u001b[0m\u001b[1;33m.\u001b[0m\u001b[0mexecutemany_mode\u001b[0m \u001b[1;32mis\u001b[0m \u001b[0mEXECUTEMANY_DEFAULT\u001b[0m\u001b[1;33m:\u001b[0m\u001b[1;33m\u001b[0m\u001b[1;33m\u001b[0m\u001b[0m\n\u001b[1;32m--> 854\u001b[1;33m             \u001b[0mcursor\u001b[0m\u001b[1;33m.\u001b[0m\u001b[0mexecutemany\u001b[0m\u001b[1;33m(\u001b[0m\u001b[0mstatement\u001b[0m\u001b[1;33m,\u001b[0m \u001b[0mparameters\u001b[0m\u001b[1;33m)\u001b[0m\u001b[1;33m\u001b[0m\u001b[1;33m\u001b[0m\u001b[0m\n\u001b[0m\u001b[0;32m    855\u001b[0m             \u001b[1;32mreturn\u001b[0m\u001b[1;33m\u001b[0m\u001b[1;33m\u001b[0m\u001b[0m\n",
      "\u001b[1;31mUndefinedColumn\u001b[0m: column \"Unnamed: 0\" of relation \"netflix\" does not exist\nLINE 1: INSERT INTO netflix (\"Unnamed: 0\", show_id, type, title, dir...\n                             ^\n",
      "\nThe above exception was the direct cause of the following exception:\n",
      "\u001b[1;31mProgrammingError\u001b[0m                          Traceback (most recent call last)",
      "\u001b[1;32m<ipython-input-14-d6153471f681>\u001b[0m in \u001b[0;36m<module>\u001b[1;34m\u001b[0m\n\u001b[1;32m----> 1\u001b[1;33m \u001b[0mnetflix_df\u001b[0m\u001b[1;33m.\u001b[0m\u001b[0mto_sql\u001b[0m\u001b[1;33m(\u001b[0m\u001b[0mname\u001b[0m\u001b[1;33m=\u001b[0m\u001b[1;34m'netflix'\u001b[0m\u001b[1;33m,\u001b[0m \u001b[0mcon\u001b[0m\u001b[1;33m=\u001b[0m\u001b[0mengine\u001b[0m\u001b[1;33m,\u001b[0m \u001b[0mif_exists\u001b[0m\u001b[1;33m=\u001b[0m\u001b[1;34m'append'\u001b[0m\u001b[1;33m,\u001b[0m \u001b[0mindex\u001b[0m\u001b[1;33m=\u001b[0m\u001b[1;32mFalse\u001b[0m\u001b[1;33m)\u001b[0m\u001b[1;33m\u001b[0m\u001b[1;33m\u001b[0m\u001b[0m\n\u001b[0m\u001b[0;32m      2\u001b[0m \u001b[0mgg_df\u001b[0m\u001b[1;33m.\u001b[0m\u001b[0mto_sql\u001b[0m\u001b[1;33m(\u001b[0m\u001b[0mname\u001b[0m\u001b[1;33m=\u001b[0m\u001b[1;34m'golden_globe'\u001b[0m\u001b[1;33m,\u001b[0m \u001b[0mcon\u001b[0m\u001b[1;33m=\u001b[0m\u001b[0mengine\u001b[0m\u001b[1;33m,\u001b[0m \u001b[0mif_exists\u001b[0m\u001b[1;33m=\u001b[0m\u001b[1;34m'append'\u001b[0m\u001b[1;33m,\u001b[0m \u001b[0mindex\u001b[0m\u001b[1;33m=\u001b[0m\u001b[1;32mFalse\u001b[0m\u001b[1;33m)\u001b[0m\u001b[1;33m\u001b[0m\u001b[1;33m\u001b[0m\u001b[0m\n\u001b[0;32m      3\u001b[0m \u001b[1;33m\u001b[0m\u001b[0m\n\u001b[0;32m      4\u001b[0m \u001b[1;31m# use these statments below to recreate the tables if needed.\u001b[0m\u001b[1;33m\u001b[0m\u001b[1;33m\u001b[0m\u001b[1;33m\u001b[0m\u001b[0m\n\u001b[0;32m      5\u001b[0m \u001b[1;31m#netflix_df.tosql(name='netflix', con=engine, if_exists='replace', index=False)\u001b[0m\u001b[1;33m\u001b[0m\u001b[1;33m\u001b[0m\u001b[1;33m\u001b[0m\u001b[0m\n",
      "\u001b[1;32m~\\Anaconda3\\lib\\site-packages\\pandas\\core\\generic.py\u001b[0m in \u001b[0;36mto_sql\u001b[1;34m(self, name, con, schema, if_exists, index, index_label, chunksize, dtype, method)\u001b[0m\n\u001b[0;32m   2710\u001b[0m             \u001b[0mchunksize\u001b[0m\u001b[1;33m=\u001b[0m\u001b[0mchunksize\u001b[0m\u001b[1;33m,\u001b[0m\u001b[1;33m\u001b[0m\u001b[1;33m\u001b[0m\u001b[0m\n\u001b[0;32m   2711\u001b[0m             \u001b[0mdtype\u001b[0m\u001b[1;33m=\u001b[0m\u001b[0mdtype\u001b[0m\u001b[1;33m,\u001b[0m\u001b[1;33m\u001b[0m\u001b[1;33m\u001b[0m\u001b[0m\n\u001b[1;32m-> 2712\u001b[1;33m             \u001b[0mmethod\u001b[0m\u001b[1;33m=\u001b[0m\u001b[0mmethod\u001b[0m\u001b[1;33m,\u001b[0m\u001b[1;33m\u001b[0m\u001b[1;33m\u001b[0m\u001b[0m\n\u001b[0m\u001b[0;32m   2713\u001b[0m         )\n\u001b[0;32m   2714\u001b[0m \u001b[1;33m\u001b[0m\u001b[0m\n",
      "\u001b[1;32m~\\Anaconda3\\lib\\site-packages\\pandas\\io\\sql.py\u001b[0m in \u001b[0;36mto_sql\u001b[1;34m(frame, name, con, schema, if_exists, index, index_label, chunksize, dtype, method)\u001b[0m\n\u001b[0;32m    516\u001b[0m         \u001b[0mchunksize\u001b[0m\u001b[1;33m=\u001b[0m\u001b[0mchunksize\u001b[0m\u001b[1;33m,\u001b[0m\u001b[1;33m\u001b[0m\u001b[1;33m\u001b[0m\u001b[0m\n\u001b[0;32m    517\u001b[0m         \u001b[0mdtype\u001b[0m\u001b[1;33m=\u001b[0m\u001b[0mdtype\u001b[0m\u001b[1;33m,\u001b[0m\u001b[1;33m\u001b[0m\u001b[1;33m\u001b[0m\u001b[0m\n\u001b[1;32m--> 518\u001b[1;33m         \u001b[0mmethod\u001b[0m\u001b[1;33m=\u001b[0m\u001b[0mmethod\u001b[0m\u001b[1;33m,\u001b[0m\u001b[1;33m\u001b[0m\u001b[1;33m\u001b[0m\u001b[0m\n\u001b[0m\u001b[0;32m    519\u001b[0m     )\n\u001b[0;32m    520\u001b[0m \u001b[1;33m\u001b[0m\u001b[0m\n",
      "\u001b[1;32m~\\Anaconda3\\lib\\site-packages\\pandas\\io\\sql.py\u001b[0m in \u001b[0;36mto_sql\u001b[1;34m(self, frame, name, if_exists, index, index_label, schema, chunksize, dtype, method)\u001b[0m\n\u001b[0;32m   1318\u001b[0m         )\n\u001b[0;32m   1319\u001b[0m         \u001b[0mtable\u001b[0m\u001b[1;33m.\u001b[0m\u001b[0mcreate\u001b[0m\u001b[1;33m(\u001b[0m\u001b[1;33m)\u001b[0m\u001b[1;33m\u001b[0m\u001b[1;33m\u001b[0m\u001b[0m\n\u001b[1;32m-> 1320\u001b[1;33m         \u001b[0mtable\u001b[0m\u001b[1;33m.\u001b[0m\u001b[0minsert\u001b[0m\u001b[1;33m(\u001b[0m\u001b[0mchunksize\u001b[0m\u001b[1;33m,\u001b[0m \u001b[0mmethod\u001b[0m\u001b[1;33m=\u001b[0m\u001b[0mmethod\u001b[0m\u001b[1;33m)\u001b[0m\u001b[1;33m\u001b[0m\u001b[1;33m\u001b[0m\u001b[0m\n\u001b[0m\u001b[0;32m   1321\u001b[0m         \u001b[1;32mif\u001b[0m \u001b[1;32mnot\u001b[0m \u001b[0mname\u001b[0m\u001b[1;33m.\u001b[0m\u001b[0misdigit\u001b[0m\u001b[1;33m(\u001b[0m\u001b[1;33m)\u001b[0m \u001b[1;32mand\u001b[0m \u001b[1;32mnot\u001b[0m \u001b[0mname\u001b[0m\u001b[1;33m.\u001b[0m\u001b[0mislower\u001b[0m\u001b[1;33m(\u001b[0m\u001b[1;33m)\u001b[0m\u001b[1;33m:\u001b[0m\u001b[1;33m\u001b[0m\u001b[1;33m\u001b[0m\u001b[0m\n\u001b[0;32m   1322\u001b[0m             \u001b[1;31m# check for potentially case sensitivity issues (GH7815)\u001b[0m\u001b[1;33m\u001b[0m\u001b[1;33m\u001b[0m\u001b[1;33m\u001b[0m\u001b[0m\n",
      "\u001b[1;32m~\\Anaconda3\\lib\\site-packages\\pandas\\io\\sql.py\u001b[0m in \u001b[0;36minsert\u001b[1;34m(self, chunksize, method)\u001b[0m\n\u001b[0;32m    754\u001b[0m \u001b[1;33m\u001b[0m\u001b[0m\n\u001b[0;32m    755\u001b[0m                 \u001b[0mchunk_iter\u001b[0m \u001b[1;33m=\u001b[0m \u001b[0mzip\u001b[0m\u001b[1;33m(\u001b[0m\u001b[1;33m*\u001b[0m\u001b[1;33m[\u001b[0m\u001b[0marr\u001b[0m\u001b[1;33m[\u001b[0m\u001b[0mstart_i\u001b[0m\u001b[1;33m:\u001b[0m\u001b[0mend_i\u001b[0m\u001b[1;33m]\u001b[0m \u001b[1;32mfor\u001b[0m \u001b[0marr\u001b[0m \u001b[1;32min\u001b[0m \u001b[0mdata_list\u001b[0m\u001b[1;33m]\u001b[0m\u001b[1;33m)\u001b[0m\u001b[1;33m\u001b[0m\u001b[1;33m\u001b[0m\u001b[0m\n\u001b[1;32m--> 756\u001b[1;33m                 \u001b[0mexec_insert\u001b[0m\u001b[1;33m(\u001b[0m\u001b[0mconn\u001b[0m\u001b[1;33m,\u001b[0m \u001b[0mkeys\u001b[0m\u001b[1;33m,\u001b[0m \u001b[0mchunk_iter\u001b[0m\u001b[1;33m)\u001b[0m\u001b[1;33m\u001b[0m\u001b[1;33m\u001b[0m\u001b[0m\n\u001b[0m\u001b[0;32m    757\u001b[0m \u001b[1;33m\u001b[0m\u001b[0m\n\u001b[0;32m    758\u001b[0m     def _query_iterator(\n",
      "\u001b[1;32m~\\Anaconda3\\lib\\site-packages\\pandas\\io\\sql.py\u001b[0m in \u001b[0;36m_execute_insert\u001b[1;34m(self, conn, keys, data_iter)\u001b[0m\n\u001b[0;32m    668\u001b[0m         \"\"\"\n\u001b[0;32m    669\u001b[0m         \u001b[0mdata\u001b[0m \u001b[1;33m=\u001b[0m \u001b[1;33m[\u001b[0m\u001b[0mdict\u001b[0m\u001b[1;33m(\u001b[0m\u001b[0mzip\u001b[0m\u001b[1;33m(\u001b[0m\u001b[0mkeys\u001b[0m\u001b[1;33m,\u001b[0m \u001b[0mrow\u001b[0m\u001b[1;33m)\u001b[0m\u001b[1;33m)\u001b[0m \u001b[1;32mfor\u001b[0m \u001b[0mrow\u001b[0m \u001b[1;32min\u001b[0m \u001b[0mdata_iter\u001b[0m\u001b[1;33m]\u001b[0m\u001b[1;33m\u001b[0m\u001b[1;33m\u001b[0m\u001b[0m\n\u001b[1;32m--> 670\u001b[1;33m         \u001b[0mconn\u001b[0m\u001b[1;33m.\u001b[0m\u001b[0mexecute\u001b[0m\u001b[1;33m(\u001b[0m\u001b[0mself\u001b[0m\u001b[1;33m.\u001b[0m\u001b[0mtable\u001b[0m\u001b[1;33m.\u001b[0m\u001b[0minsert\u001b[0m\u001b[1;33m(\u001b[0m\u001b[1;33m)\u001b[0m\u001b[1;33m,\u001b[0m \u001b[0mdata\u001b[0m\u001b[1;33m)\u001b[0m\u001b[1;33m\u001b[0m\u001b[1;33m\u001b[0m\u001b[0m\n\u001b[0m\u001b[0;32m    671\u001b[0m \u001b[1;33m\u001b[0m\u001b[0m\n\u001b[0;32m    672\u001b[0m     \u001b[1;32mdef\u001b[0m \u001b[0m_execute_insert_multi\u001b[0m\u001b[1;33m(\u001b[0m\u001b[0mself\u001b[0m\u001b[1;33m,\u001b[0m \u001b[0mconn\u001b[0m\u001b[1;33m,\u001b[0m \u001b[0mkeys\u001b[0m\u001b[1;33m,\u001b[0m \u001b[0mdata_iter\u001b[0m\u001b[1;33m)\u001b[0m\u001b[1;33m:\u001b[0m\u001b[1;33m\u001b[0m\u001b[1;33m\u001b[0m\u001b[0m\n",
      "\u001b[1;32m~\\Anaconda3\\lib\\site-packages\\sqlalchemy\\engine\\base.py\u001b[0m in \u001b[0;36mexecute\u001b[1;34m(self, object_, *multiparams, **params)\u001b[0m\n\u001b[0;32m    986\u001b[0m             \u001b[1;32mraise\u001b[0m \u001b[0mexc\u001b[0m\u001b[1;33m.\u001b[0m\u001b[0mObjectNotExecutableError\u001b[0m\u001b[1;33m(\u001b[0m\u001b[0mobject_\u001b[0m\u001b[1;33m)\u001b[0m\u001b[1;33m\u001b[0m\u001b[1;33m\u001b[0m\u001b[0m\n\u001b[0;32m    987\u001b[0m         \u001b[1;32melse\u001b[0m\u001b[1;33m:\u001b[0m\u001b[1;33m\u001b[0m\u001b[1;33m\u001b[0m\u001b[0m\n\u001b[1;32m--> 988\u001b[1;33m             \u001b[1;32mreturn\u001b[0m \u001b[0mmeth\u001b[0m\u001b[1;33m(\u001b[0m\u001b[0mself\u001b[0m\u001b[1;33m,\u001b[0m \u001b[0mmultiparams\u001b[0m\u001b[1;33m,\u001b[0m \u001b[0mparams\u001b[0m\u001b[1;33m)\u001b[0m\u001b[1;33m\u001b[0m\u001b[1;33m\u001b[0m\u001b[0m\n\u001b[0m\u001b[0;32m    989\u001b[0m \u001b[1;33m\u001b[0m\u001b[0m\n\u001b[0;32m    990\u001b[0m     \u001b[1;32mdef\u001b[0m \u001b[0m_execute_function\u001b[0m\u001b[1;33m(\u001b[0m\u001b[0mself\u001b[0m\u001b[1;33m,\u001b[0m \u001b[0mfunc\u001b[0m\u001b[1;33m,\u001b[0m \u001b[0mmultiparams\u001b[0m\u001b[1;33m,\u001b[0m \u001b[0mparams\u001b[0m\u001b[1;33m)\u001b[0m\u001b[1;33m:\u001b[0m\u001b[1;33m\u001b[0m\u001b[1;33m\u001b[0m\u001b[0m\n",
      "\u001b[1;32m~\\Anaconda3\\lib\\site-packages\\sqlalchemy\\sql\\elements.py\u001b[0m in \u001b[0;36m_execute_on_connection\u001b[1;34m(self, connection, multiparams, params)\u001b[0m\n\u001b[0;32m    285\u001b[0m     \u001b[1;32mdef\u001b[0m \u001b[0m_execute_on_connection\u001b[0m\u001b[1;33m(\u001b[0m\u001b[0mself\u001b[0m\u001b[1;33m,\u001b[0m \u001b[0mconnection\u001b[0m\u001b[1;33m,\u001b[0m \u001b[0mmultiparams\u001b[0m\u001b[1;33m,\u001b[0m \u001b[0mparams\u001b[0m\u001b[1;33m)\u001b[0m\u001b[1;33m:\u001b[0m\u001b[1;33m\u001b[0m\u001b[1;33m\u001b[0m\u001b[0m\n\u001b[0;32m    286\u001b[0m         \u001b[1;32mif\u001b[0m \u001b[0mself\u001b[0m\u001b[1;33m.\u001b[0m\u001b[0msupports_execution\u001b[0m\u001b[1;33m:\u001b[0m\u001b[1;33m\u001b[0m\u001b[1;33m\u001b[0m\u001b[0m\n\u001b[1;32m--> 287\u001b[1;33m             \u001b[1;32mreturn\u001b[0m \u001b[0mconnection\u001b[0m\u001b[1;33m.\u001b[0m\u001b[0m_execute_clauseelement\u001b[0m\u001b[1;33m(\u001b[0m\u001b[0mself\u001b[0m\u001b[1;33m,\u001b[0m \u001b[0mmultiparams\u001b[0m\u001b[1;33m,\u001b[0m \u001b[0mparams\u001b[0m\u001b[1;33m)\u001b[0m\u001b[1;33m\u001b[0m\u001b[1;33m\u001b[0m\u001b[0m\n\u001b[0m\u001b[0;32m    288\u001b[0m         \u001b[1;32melse\u001b[0m\u001b[1;33m:\u001b[0m\u001b[1;33m\u001b[0m\u001b[1;33m\u001b[0m\u001b[0m\n\u001b[0;32m    289\u001b[0m             \u001b[1;32mraise\u001b[0m \u001b[0mexc\u001b[0m\u001b[1;33m.\u001b[0m\u001b[0mObjectNotExecutableError\u001b[0m\u001b[1;33m(\u001b[0m\u001b[0mself\u001b[0m\u001b[1;33m)\u001b[0m\u001b[1;33m\u001b[0m\u001b[1;33m\u001b[0m\u001b[0m\n",
      "\u001b[1;32m~\\Anaconda3\\lib\\site-packages\\sqlalchemy\\engine\\base.py\u001b[0m in \u001b[0;36m_execute_clauseelement\u001b[1;34m(self, elem, multiparams, params)\u001b[0m\n\u001b[0;32m   1105\u001b[0m             \u001b[0mdistilled_params\u001b[0m\u001b[1;33m,\u001b[0m\u001b[1;33m\u001b[0m\u001b[1;33m\u001b[0m\u001b[0m\n\u001b[0;32m   1106\u001b[0m             \u001b[0mcompiled_sql\u001b[0m\u001b[1;33m,\u001b[0m\u001b[1;33m\u001b[0m\u001b[1;33m\u001b[0m\u001b[0m\n\u001b[1;32m-> 1107\u001b[1;33m             \u001b[0mdistilled_params\u001b[0m\u001b[1;33m,\u001b[0m\u001b[1;33m\u001b[0m\u001b[1;33m\u001b[0m\u001b[0m\n\u001b[0m\u001b[0;32m   1108\u001b[0m         )\n\u001b[0;32m   1109\u001b[0m         \u001b[1;32mif\u001b[0m \u001b[0mself\u001b[0m\u001b[1;33m.\u001b[0m\u001b[0m_has_events\u001b[0m \u001b[1;32mor\u001b[0m \u001b[0mself\u001b[0m\u001b[1;33m.\u001b[0m\u001b[0mengine\u001b[0m\u001b[1;33m.\u001b[0m\u001b[0m_has_events\u001b[0m\u001b[1;33m:\u001b[0m\u001b[1;33m\u001b[0m\u001b[1;33m\u001b[0m\u001b[0m\n",
      "\u001b[1;32m~\\Anaconda3\\lib\\site-packages\\sqlalchemy\\engine\\base.py\u001b[0m in \u001b[0;36m_execute_context\u001b[1;34m(self, dialect, constructor, statement, parameters, *args)\u001b[0m\n\u001b[0;32m   1251\u001b[0m         \u001b[1;32mexcept\u001b[0m \u001b[0mBaseException\u001b[0m \u001b[1;32mas\u001b[0m \u001b[0me\u001b[0m\u001b[1;33m:\u001b[0m\u001b[1;33m\u001b[0m\u001b[1;33m\u001b[0m\u001b[0m\n\u001b[0;32m   1252\u001b[0m             self._handle_dbapi_exception(\n\u001b[1;32m-> 1253\u001b[1;33m                 \u001b[0me\u001b[0m\u001b[1;33m,\u001b[0m \u001b[0mstatement\u001b[0m\u001b[1;33m,\u001b[0m \u001b[0mparameters\u001b[0m\u001b[1;33m,\u001b[0m \u001b[0mcursor\u001b[0m\u001b[1;33m,\u001b[0m \u001b[0mcontext\u001b[0m\u001b[1;33m\u001b[0m\u001b[1;33m\u001b[0m\u001b[0m\n\u001b[0m\u001b[0;32m   1254\u001b[0m             )\n\u001b[0;32m   1255\u001b[0m \u001b[1;33m\u001b[0m\u001b[0m\n",
      "\u001b[1;32m~\\Anaconda3\\lib\\site-packages\\sqlalchemy\\engine\\base.py\u001b[0m in \u001b[0;36m_handle_dbapi_exception\u001b[1;34m(self, e, statement, parameters, cursor, context)\u001b[0m\n\u001b[0;32m   1471\u001b[0m                 \u001b[0mutil\u001b[0m\u001b[1;33m.\u001b[0m\u001b[0mraise_from_cause\u001b[0m\u001b[1;33m(\u001b[0m\u001b[0mnewraise\u001b[0m\u001b[1;33m,\u001b[0m \u001b[0mexc_info\u001b[0m\u001b[1;33m)\u001b[0m\u001b[1;33m\u001b[0m\u001b[1;33m\u001b[0m\u001b[0m\n\u001b[0;32m   1472\u001b[0m             \u001b[1;32melif\u001b[0m \u001b[0mshould_wrap\u001b[0m\u001b[1;33m:\u001b[0m\u001b[1;33m\u001b[0m\u001b[1;33m\u001b[0m\u001b[0m\n\u001b[1;32m-> 1473\u001b[1;33m                 \u001b[0mutil\u001b[0m\u001b[1;33m.\u001b[0m\u001b[0mraise_from_cause\u001b[0m\u001b[1;33m(\u001b[0m\u001b[0msqlalchemy_exception\u001b[0m\u001b[1;33m,\u001b[0m \u001b[0mexc_info\u001b[0m\u001b[1;33m)\u001b[0m\u001b[1;33m\u001b[0m\u001b[1;33m\u001b[0m\u001b[0m\n\u001b[0m\u001b[0;32m   1474\u001b[0m             \u001b[1;32melse\u001b[0m\u001b[1;33m:\u001b[0m\u001b[1;33m\u001b[0m\u001b[1;33m\u001b[0m\u001b[0m\n\u001b[0;32m   1475\u001b[0m                 \u001b[0mutil\u001b[0m\u001b[1;33m.\u001b[0m\u001b[0mreraise\u001b[0m\u001b[1;33m(\u001b[0m\u001b[1;33m*\u001b[0m\u001b[0mexc_info\u001b[0m\u001b[1;33m)\u001b[0m\u001b[1;33m\u001b[0m\u001b[1;33m\u001b[0m\u001b[0m\n",
      "\u001b[1;32m~\\Anaconda3\\lib\\site-packages\\sqlalchemy\\util\\compat.py\u001b[0m in \u001b[0;36mraise_from_cause\u001b[1;34m(exception, exc_info)\u001b[0m\n\u001b[0;32m    396\u001b[0m     \u001b[0mexc_type\u001b[0m\u001b[1;33m,\u001b[0m \u001b[0mexc_value\u001b[0m\u001b[1;33m,\u001b[0m \u001b[0mexc_tb\u001b[0m \u001b[1;33m=\u001b[0m \u001b[0mexc_info\u001b[0m\u001b[1;33m\u001b[0m\u001b[1;33m\u001b[0m\u001b[0m\n\u001b[0;32m    397\u001b[0m     \u001b[0mcause\u001b[0m \u001b[1;33m=\u001b[0m \u001b[0mexc_value\u001b[0m \u001b[1;32mif\u001b[0m \u001b[0mexc_value\u001b[0m \u001b[1;32mis\u001b[0m \u001b[1;32mnot\u001b[0m \u001b[0mexception\u001b[0m \u001b[1;32melse\u001b[0m \u001b[1;32mNone\u001b[0m\u001b[1;33m\u001b[0m\u001b[1;33m\u001b[0m\u001b[0m\n\u001b[1;32m--> 398\u001b[1;33m     \u001b[0mreraise\u001b[0m\u001b[1;33m(\u001b[0m\u001b[0mtype\u001b[0m\u001b[1;33m(\u001b[0m\u001b[0mexception\u001b[0m\u001b[1;33m)\u001b[0m\u001b[1;33m,\u001b[0m \u001b[0mexception\u001b[0m\u001b[1;33m,\u001b[0m \u001b[0mtb\u001b[0m\u001b[1;33m=\u001b[0m\u001b[0mexc_tb\u001b[0m\u001b[1;33m,\u001b[0m \u001b[0mcause\u001b[0m\u001b[1;33m=\u001b[0m\u001b[0mcause\u001b[0m\u001b[1;33m)\u001b[0m\u001b[1;33m\u001b[0m\u001b[1;33m\u001b[0m\u001b[0m\n\u001b[0m\u001b[0;32m    399\u001b[0m \u001b[1;33m\u001b[0m\u001b[0m\n\u001b[0;32m    400\u001b[0m \u001b[1;33m\u001b[0m\u001b[0m\n",
      "\u001b[1;32m~\\Anaconda3\\lib\\site-packages\\sqlalchemy\\util\\compat.py\u001b[0m in \u001b[0;36mreraise\u001b[1;34m(tp, value, tb, cause)\u001b[0m\n\u001b[0;32m    150\u001b[0m             \u001b[0mvalue\u001b[0m\u001b[1;33m.\u001b[0m\u001b[0m__cause__\u001b[0m \u001b[1;33m=\u001b[0m \u001b[0mcause\u001b[0m\u001b[1;33m\u001b[0m\u001b[1;33m\u001b[0m\u001b[0m\n\u001b[0;32m    151\u001b[0m         \u001b[1;32mif\u001b[0m \u001b[0mvalue\u001b[0m\u001b[1;33m.\u001b[0m\u001b[0m__traceback__\u001b[0m \u001b[1;32mis\u001b[0m \u001b[1;32mnot\u001b[0m \u001b[0mtb\u001b[0m\u001b[1;33m:\u001b[0m\u001b[1;33m\u001b[0m\u001b[1;33m\u001b[0m\u001b[0m\n\u001b[1;32m--> 152\u001b[1;33m             \u001b[1;32mraise\u001b[0m \u001b[0mvalue\u001b[0m\u001b[1;33m.\u001b[0m\u001b[0mwith_traceback\u001b[0m\u001b[1;33m(\u001b[0m\u001b[0mtb\u001b[0m\u001b[1;33m)\u001b[0m\u001b[1;33m\u001b[0m\u001b[1;33m\u001b[0m\u001b[0m\n\u001b[0m\u001b[0;32m    153\u001b[0m         \u001b[1;32mraise\u001b[0m \u001b[0mvalue\u001b[0m\u001b[1;33m\u001b[0m\u001b[1;33m\u001b[0m\u001b[0m\n\u001b[0;32m    154\u001b[0m \u001b[1;33m\u001b[0m\u001b[0m\n",
      "\u001b[1;32m~\\Anaconda3\\lib\\site-packages\\sqlalchemy\\engine\\base.py\u001b[0m in \u001b[0;36m_execute_context\u001b[1;34m(self, dialect, constructor, statement, parameters, *args)\u001b[0m\n\u001b[0;32m   1227\u001b[0m                 \u001b[1;32mif\u001b[0m \u001b[1;32mnot\u001b[0m \u001b[0mevt_handled\u001b[0m\u001b[1;33m:\u001b[0m\u001b[1;33m\u001b[0m\u001b[1;33m\u001b[0m\u001b[0m\n\u001b[0;32m   1228\u001b[0m                     self.dialect.do_executemany(\n\u001b[1;32m-> 1229\u001b[1;33m                         \u001b[0mcursor\u001b[0m\u001b[1;33m,\u001b[0m \u001b[0mstatement\u001b[0m\u001b[1;33m,\u001b[0m \u001b[0mparameters\u001b[0m\u001b[1;33m,\u001b[0m \u001b[0mcontext\u001b[0m\u001b[1;33m\u001b[0m\u001b[1;33m\u001b[0m\u001b[0m\n\u001b[0m\u001b[0;32m   1230\u001b[0m                     )\n\u001b[0;32m   1231\u001b[0m             \u001b[1;32melif\u001b[0m \u001b[1;32mnot\u001b[0m \u001b[0mparameters\u001b[0m \u001b[1;32mand\u001b[0m \u001b[0mcontext\u001b[0m\u001b[1;33m.\u001b[0m\u001b[0mno_parameters\u001b[0m\u001b[1;33m:\u001b[0m\u001b[1;33m\u001b[0m\u001b[1;33m\u001b[0m\u001b[0m\n",
      "\u001b[1;32m~\\Anaconda3\\lib\\site-packages\\sqlalchemy\\dialects\\postgresql\\psycopg2.py\u001b[0m in \u001b[0;36mdo_executemany\u001b[1;34m(self, cursor, statement, parameters, context)\u001b[0m\n\u001b[0;32m    852\u001b[0m     \u001b[1;32mdef\u001b[0m \u001b[0mdo_executemany\u001b[0m\u001b[1;33m(\u001b[0m\u001b[0mself\u001b[0m\u001b[1;33m,\u001b[0m \u001b[0mcursor\u001b[0m\u001b[1;33m,\u001b[0m \u001b[0mstatement\u001b[0m\u001b[1;33m,\u001b[0m \u001b[0mparameters\u001b[0m\u001b[1;33m,\u001b[0m \u001b[0mcontext\u001b[0m\u001b[1;33m=\u001b[0m\u001b[1;32mNone\u001b[0m\u001b[1;33m)\u001b[0m\u001b[1;33m:\u001b[0m\u001b[1;33m\u001b[0m\u001b[1;33m\u001b[0m\u001b[0m\n\u001b[0;32m    853\u001b[0m         \u001b[1;32mif\u001b[0m \u001b[0mself\u001b[0m\u001b[1;33m.\u001b[0m\u001b[0mexecutemany_mode\u001b[0m \u001b[1;32mis\u001b[0m \u001b[0mEXECUTEMANY_DEFAULT\u001b[0m\u001b[1;33m:\u001b[0m\u001b[1;33m\u001b[0m\u001b[1;33m\u001b[0m\u001b[0m\n\u001b[1;32m--> 854\u001b[1;33m             \u001b[0mcursor\u001b[0m\u001b[1;33m.\u001b[0m\u001b[0mexecutemany\u001b[0m\u001b[1;33m(\u001b[0m\u001b[0mstatement\u001b[0m\u001b[1;33m,\u001b[0m \u001b[0mparameters\u001b[0m\u001b[1;33m)\u001b[0m\u001b[1;33m\u001b[0m\u001b[1;33m\u001b[0m\u001b[0m\n\u001b[0m\u001b[0;32m    855\u001b[0m             \u001b[1;32mreturn\u001b[0m\u001b[1;33m\u001b[0m\u001b[1;33m\u001b[0m\u001b[0m\n\u001b[0;32m    856\u001b[0m \u001b[1;33m\u001b[0m\u001b[0m\n",
      "\u001b[1;31mProgrammingError\u001b[0m: (psycopg2.errors.UndefinedColumn) column \"Unnamed: 0\" of relation \"netflix\" does not exist\nLINE 1: INSERT INTO netflix (\"Unnamed: 0\", show_id, type, title, dir...\n                             ^\n\n[SQL: INSERT INTO netflix (\"Unnamed: 0\", show_id, type, title, director, year_film, rating, duration, listed_in, description) VALUES (%(Unnamed: 0)s, %(show_id)s, %(type)s, %(title)s, %(director)s, %(year_film)s, %(rating)s, %(duration)s, %(listed_in)s, %(description)s)]\n[parameters: ({'Unnamed: 0': 0, 'show_id': 81145628, 'type': 'Movie', 'title': 'NORM OF THE NORTH: KING SIZED ADVENTURE', 'director': 'Richard Finn, Tim Maltby', 'year_film': 2019, 'rating': 'TV-PG', 'duration': '90 min', 'listed_in': 'Children & Family Movies, Comedies', 'description': 'Before planning an awesome wedding for his grandfather, a polar bear king must take back a stolen artifact from an evil archaeologist first.'}, {'Unnamed: 0': 4, 'show_id': 80125979, 'type': 'Movie', 'title': '#REALITYHIGH', 'director': 'Fernando Lebrija', 'year_film': 2017, 'rating': 'TV-14', 'duration': '99 min', 'listed_in': 'Comedies', 'description': 'When nerdy high schooler Dani finally attracts the interest of her longtime crush, she lands in the cross hairs of his ex, a social media celebrity.'}, {'Unnamed: 0': 6, 'show_id': 70304989, 'type': 'Movie', 'title': 'AUTOMATA', 'director': 'Gabe Ibáñez', 'year_film': 2014, 'rating': 'R', 'duration': '110 min', 'listed_in': 'International Movies, Sci-Fi & Fantasy, Thrillers', 'description': 'In a dystopian future, an insurance adjuster for a tech company investigates a robot killed for violating protocol and discovers a global conspiracy.'}, {'Unnamed: 0': 7, 'show_id': 80164077, 'type': 'Movie', 'title': 'FABRIZIO COPANO: SOLO PIENSO EN MI', 'director': 'Rodrigo Toro, Francisco Schultz', 'year_film': 2017, 'rating': 'TV-MA', 'duration': '60 min', 'listed_in': 'Stand-Up Comedy', 'description': 'Fabrizio Copano takes audience participation to the next level in this stand-up set while reflecting on sperm banks, family WhatsApp groups and more.'}, {'Unnamed: 0': 9, 'show_id': 70304990, 'type': 'Movie', 'title': 'GOOD PEOPLE', 'director': 'Henrik Ruben Genz', 'year_film': 2014, 'rating': 'R', 'duration': '90 min', 'listed_in': 'Action & Adventure, Thrillers', 'description': \"A struggling couple can't believe their luck when they find a stash of money in the apartment of a neighbor who was recently murdered.\"}, {'Unnamed: 0': 10, 'show_id': 80169755, 'type': 'Movie', 'title': 'JOAQUÍN REYES: UNA Y NO MÁS', 'director': 'José Miguel Contreras', 'year_film': 2017, 'rating': 'TV-MA', 'duration': '78 min', 'listed_in': 'Stand-Up Comedy', 'description': 'Comedian and celebrity impersonator Joaquín Reyes decides to be his zesty self for a night of stories about buses, bathroom habits, royalty and more.'}, {'Unnamed: 0': 11, 'show_id': 70299204, 'type': 'Movie', 'title': 'KIDNAPPING MR. HEINEKEN', 'director': 'Daniel Alfredson', 'year_film': 2015, 'rating': 'R', 'duration': '95 min', 'listed_in': 'Action & Adventure, Dramas, International Movies', 'description': 'When beer magnate Alfred \"Freddy\" Heineken is kidnapped in 1983, his abductors make the largest ransom demand in history.'}, {'Unnamed: 0': 13, 'show_id': 80182483, 'type': 'Movie', 'title': 'KRISH TRISH AND BALTIBOY: BATTLE OF WITS', 'director': 'Munjal Shroff, Tilak Shetty', 'year_film': 2013, 'rating': 'TV-Y7', 'duration': '62 min', 'listed_in': 'Children & Family Movies', 'description': 'An artisan is cheated of his payment, a lion of his throne and a brother of his inheritance in these three stories of deception and justice.'}  ... displaying 10 of 4259 total bound parameter sets ...  {'Unnamed: 0': 6182, 'show_id': 80176842, 'type': 'TV Show', 'title': 'MEN ON A MISSION', 'director': 'Jung-ah Im', 'year_film': 2019, 'rating': 'TV-14', 'duration': '4 Seasons', 'listed_in': 'International TV Shows, Korean TV Shows, Stand-Up Comedy & Talk Shows', 'description': 'Male celebs play make-believe as high schoolers, welcoming star transfer students every week and engaging in battles of witty humor and slapstick.'}, {'Unnamed: 0': 6213, 'show_id': 80126599, 'type': 'TV Show', 'title': 'LEYLA AND MECNUN', 'director': 'Onur Ünlü', 'year_film': 2014, 'rating': 'TV-PG', 'duration': '3 Seasons', 'listed_in': 'International TV Shows, Romantic TV Shows, TV Comedies', 'description': \"Destiny brings Mecnun and Leyla together as newborns, and again years later. Despite unexpected turns in Mecnun's zany life, Leyla remains a constant.\"})]\n(Background on this error at: http://sqlalche.me/e/f405)"
     ]
    }
   ],
   "source": [
    "\n",
    "new_netflix_df.to_sql(name='netflix', con=engine, if_exists='append', index=False)\n",
    "new_gg_df.to_sql(name='golden_globe', con=engine, if_exists='append', index=False)\n",
    "\n",
    "# use these statments below to recreate the tables if needed.\n",
    "#netflix_df.tosql(name='netflix', con=engine, if_exists='replace', index=False)\n",
    "#gg_df.tosql(name='golden_globe', con=engine, if_exists='replace', index=False)"
=======
   "outputs": [],
   "source": [
    "\n",
    "connection_string = \"postgres:postgres@localhost:5432/netflix_gg_db\"\n",
    "engine = create_engine(f'postgresql://{connection_string}')"
>>>>>>> cindy
   ]
  },
  {
   "cell_type": "code",
<<<<<<< HEAD
   "execution_count": null,
   "metadata": {},
   "outputs": [],
   "source": [
    "netflix_query = pd.read_sql_query('Select * from netflix', con=engine)\n",
    "netflix_query\n"
   ]
  },
  {
   "cell_type": "code",
   "execution_count": null,
   "metadata": {},
   "outputs": [],
   "source": [
    "gg_query = pd.read_sql_query('Select * from golden_globe', con=engine)\n",
    "gg_query"
=======
   "execution_count": 15,
   "metadata": {},
   "outputs": [
    {
     "data": {
      "text/plain": [
       "['netflix', 'golden_globe']"
      ]
     },
     "execution_count": 15,
     "metadata": {},
     "output_type": "execute_result"
    }
   ],
   "source": [
    "engine.table_names()"
   ]
  },
  {
   "cell_type": "markdown",
   "metadata": {},
   "source": [
    "# Load the data into the database tables"
>>>>>>> cindy
   ]
  },
  {
   "cell_type": "code",
<<<<<<< HEAD
   "execution_count": null,
   "metadata": {},
   "outputs": [],
   "source": []
  },
  {
   "cell_type": "markdown",
   "metadata": {},
   "source": [
    "#  Analysis"
=======
   "execution_count": 16,
   "metadata": {},
   "outputs": [],
   "source": [
    "# Load the netflix table - use 'replace' if this isn't the first time through. \n",
    "new_netflix_df.to_sql(name='netflix', con=engine, if_exists='replace', index=False)\n",
    "\n",
    "# may need to use this statement instead \n",
    "#new_netflix_df.tosql(name='netflix', con=engine, if_exists='append', index=False)\n"
>>>>>>> cindy
   ]
  },
  {
   "cell_type": "code",
<<<<<<< HEAD
   "execution_count": null,
   "metadata": {
    "scrolled": true
   },
   "outputs": [],
   "source": [
    "inspector = inspect(engine)\n",
    "inspector.get_table_names()"
=======
   "execution_count": 18,
   "metadata": {},
   "outputs": [
    {
     "data": {
      "text/html": [
       "<div>\n",
       "<style scoped>\n",
       "    .dataframe tbody tr th:only-of-type {\n",
       "        vertical-align: middle;\n",
       "    }\n",
       "\n",
       "    .dataframe tbody tr th {\n",
       "        vertical-align: top;\n",
       "    }\n",
       "\n",
       "    .dataframe thead th {\n",
       "        text-align: right;\n",
       "    }\n",
       "</style>\n",
       "<table border=\"1\" class=\"dataframe\">\n",
       "  <thead>\n",
       "    <tr style=\"text-align: right;\">\n",
       "      <th></th>\n",
       "      <th>netflix_id</th>\n",
       "      <th>title</th>\n",
       "      <th>type</th>\n",
       "      <th>director</th>\n",
       "      <th>year_film</th>\n",
       "      <th>rating</th>\n",
       "      <th>duration</th>\n",
       "      <th>listed_in</th>\n",
       "      <th>description</th>\n",
       "    </tr>\n",
       "  </thead>\n",
       "  <tbody>\n",
       "    <tr>\n",
       "      <td>0</td>\n",
       "      <td>81145628</td>\n",
       "      <td>NORM OF THE NORTH: KING SIZED ADVENTURE</td>\n",
       "      <td>Movie</td>\n",
       "      <td>Richard Finn, Tim Maltby</td>\n",
       "      <td>2019</td>\n",
       "      <td>TV-PG</td>\n",
       "      <td>90 min</td>\n",
       "      <td>Children &amp; Family Movies, Comedies</td>\n",
       "      <td>Before planning an awesome wedding for his gra...</td>\n",
       "    </tr>\n",
       "    <tr>\n",
       "      <td>1</td>\n",
       "      <td>80125979</td>\n",
       "      <td>#REALITYHIGH</td>\n",
       "      <td>Movie</td>\n",
       "      <td>Fernando Lebrija</td>\n",
       "      <td>2017</td>\n",
       "      <td>TV-14</td>\n",
       "      <td>99 min</td>\n",
       "      <td>Comedies</td>\n",
       "      <td>When nerdy high schooler Dani finally attracts...</td>\n",
       "    </tr>\n",
       "    <tr>\n",
       "      <td>2</td>\n",
       "      <td>70304989</td>\n",
       "      <td>AUTOMATA</td>\n",
       "      <td>Movie</td>\n",
       "      <td>Gabe Ibáñez</td>\n",
       "      <td>2014</td>\n",
       "      <td>R</td>\n",
       "      <td>110 min</td>\n",
       "      <td>International Movies, Sci-Fi &amp; Fantasy, Thrillers</td>\n",
       "      <td>In a dystopian future, an insurance adjuster f...</td>\n",
       "    </tr>\n",
       "    <tr>\n",
       "      <td>3</td>\n",
       "      <td>80164077</td>\n",
       "      <td>FABRIZIO COPANO: SOLO PIENSO EN MI</td>\n",
       "      <td>Movie</td>\n",
       "      <td>Rodrigo Toro, Francisco Schultz</td>\n",
       "      <td>2017</td>\n",
       "      <td>TV-MA</td>\n",
       "      <td>60 min</td>\n",
       "      <td>Stand-Up Comedy</td>\n",
       "      <td>Fabrizio Copano takes audience participation t...</td>\n",
       "    </tr>\n",
       "    <tr>\n",
       "      <td>4</td>\n",
       "      <td>70304990</td>\n",
       "      <td>GOOD PEOPLE</td>\n",
       "      <td>Movie</td>\n",
       "      <td>Henrik Ruben Genz</td>\n",
       "      <td>2014</td>\n",
       "      <td>R</td>\n",
       "      <td>90 min</td>\n",
       "      <td>Action &amp; Adventure, Thrillers</td>\n",
       "      <td>A struggling couple can't believe their luck w...</td>\n",
       "    </tr>\n",
       "  </tbody>\n",
       "</table>\n",
       "</div>"
      ],
      "text/plain": [
       "   netflix_id                                    title   type  \\\n",
       "0    81145628  NORM OF THE NORTH: KING SIZED ADVENTURE  Movie   \n",
       "1    80125979                             #REALITYHIGH  Movie   \n",
       "2    70304989                                 AUTOMATA  Movie   \n",
       "3    80164077       FABRIZIO COPANO: SOLO PIENSO EN MI  Movie   \n",
       "4    70304990                              GOOD PEOPLE  Movie   \n",
       "\n",
       "                          director  year_film rating duration  \\\n",
       "0         Richard Finn, Tim Maltby       2019  TV-PG   90 min   \n",
       "1                 Fernando Lebrija       2017  TV-14   99 min   \n",
       "2                      Gabe Ibáñez       2014      R  110 min   \n",
       "3  Rodrigo Toro, Francisco Schultz       2017  TV-MA   60 min   \n",
       "4                Henrik Ruben Genz       2014      R   90 min   \n",
       "\n",
       "                                           listed_in  \\\n",
       "0                 Children & Family Movies, Comedies   \n",
       "1                                           Comedies   \n",
       "2  International Movies, Sci-Fi & Fantasy, Thrillers   \n",
       "3                                    Stand-Up Comedy   \n",
       "4                      Action & Adventure, Thrillers   \n",
       "\n",
       "                                         description  \n",
       "0  Before planning an awesome wedding for his gra...  \n",
       "1  When nerdy high schooler Dani finally attracts...  \n",
       "2  In a dystopian future, an insurance adjuster f...  \n",
       "3  Fabrizio Copano takes audience participation t...  \n",
       "4  A struggling couple can't believe their luck w...  "
      ]
     },
     "execution_count": 18,
     "metadata": {},
     "output_type": "execute_result"
    }
   ],
   "source": [
    "netflix_query = pd.read_sql_query('Select * from netflix', con=engine)\n",
    "netflix_query.head()"
>>>>>>> cindy
   ]
  },
  {
   "cell_type": "code",
<<<<<<< HEAD
   "execution_count": null,
   "metadata": {},
   "outputs": [],
   "source": [
    "columns = inspector.get_columns('netfilx')\n",
    "for c in columns:\n",
    "    print(c['name'], c['type'])\n",
    "\n",
    "print('')\n",
    "    \n",
    "columns = inspector.get_columns('golden_globes')\n",
    "for c in columns:\n",
    "    print(c['name'], c['type'])    "
=======
   "execution_count": 19,
   "metadata": {},
   "outputs": [],
   "source": [
    "# Load the Golden Globe table\n",
    "renamed_gg_df.to_sql(name='golden_globe', con=engine, if_exists='replace', index=False)\n",
    "\n",
    "# may need to use this statement instead \n",
    "#new_gg_df.tosql(name='golden_globe', con=engine, if_exists='append', index=False)"
>>>>>>> cindy
   ]
  },
  {
   "cell_type": "code",
<<<<<<< HEAD
   "execution_count": null,
   "metadata": {},
   "outputs": [],
   "source": [
    "# find the netflix titles in the database \n",
    "netflix_title = session.query(Netflix.title, Netflix.release_year).order_by(Netflix.title)\n",
    "netflix_title\n",
    "\n",
    "\n"
=======
   "execution_count": 20,
   "metadata": {},
   "outputs": [
    {
     "data": {
      "text/html": [
       "<div>\n",
       "<style scoped>\n",
       "    .dataframe tbody tr th:only-of-type {\n",
       "        vertical-align: middle;\n",
       "    }\n",
       "\n",
       "    .dataframe tbody tr th {\n",
       "        vertical-align: top;\n",
       "    }\n",
       "\n",
       "    .dataframe thead th {\n",
       "        text-align: right;\n",
       "    }\n",
       "</style>\n",
       "<table border=\"1\" class=\"dataframe\">\n",
       "  <thead>\n",
       "    <tr style=\"text-align: right;\">\n",
       "      <th></th>\n",
       "      <th>gg_id</th>\n",
       "      <th>netflix_id</th>\n",
       "      <th>title</th>\n",
       "      <th>year_film</th>\n",
       "      <th>year_award</th>\n",
       "      <th>category</th>\n",
       "      <th>nominee</th>\n",
       "      <th>win</th>\n",
       "    </tr>\n",
       "  </thead>\n",
       "  <tbody>\n",
       "    <tr>\n",
       "      <td>0</td>\n",
       "      <td>2161</td>\n",
       "      <td>80057969</td>\n",
       "      <td>LOVE</td>\n",
       "      <td>1973</td>\n",
       "      <td>1974</td>\n",
       "      <td>Documentary</td>\n",
       "      <td>Love</td>\n",
       "      <td>False</td>\n",
       "    </tr>\n",
       "    <tr>\n",
       "      <td>1</td>\n",
       "      <td>7741</td>\n",
       "      <td>80201906</td>\n",
       "      <td>BLACK PANTHER</td>\n",
       "      <td>2018</td>\n",
       "      <td>2019</td>\n",
       "      <td>Best Motion Picture - Drama</td>\n",
       "      <td>Black Panther</td>\n",
       "      <td>False</td>\n",
       "    </tr>\n",
       "    <tr>\n",
       "      <td>2</td>\n",
       "      <td>7800</td>\n",
       "      <td>80201906</td>\n",
       "      <td>BLACK PANTHER</td>\n",
       "      <td>2018</td>\n",
       "      <td>2019</td>\n",
       "      <td>Best Original Score - Motion Picture</td>\n",
       "      <td>Ludwig Göransson</td>\n",
       "      <td>False</td>\n",
       "    </tr>\n",
       "    <tr>\n",
       "      <td>3</td>\n",
       "      <td>7803</td>\n",
       "      <td>80201906</td>\n",
       "      <td>BLACK PANTHER</td>\n",
       "      <td>2018</td>\n",
       "      <td>2019</td>\n",
       "      <td>Best Original Song - Motion Picture</td>\n",
       "      <td>All The Stars</td>\n",
       "      <td>False</td>\n",
       "    </tr>\n",
       "    <tr>\n",
       "      <td>4</td>\n",
       "      <td>5852</td>\n",
       "      <td>60031232</td>\n",
       "      <td>MYSTIC RIVER</td>\n",
       "      <td>2003</td>\n",
       "      <td>2004</td>\n",
       "      <td>Best Motion Picture - Drama</td>\n",
       "      <td>Mystic River</td>\n",
       "      <td>False</td>\n",
       "    </tr>\n",
       "  </tbody>\n",
       "</table>\n",
       "</div>"
      ],
      "text/plain": [
       "   gg_id  netflix_id          title year_film year_award  \\\n",
       "0   2161    80057969           LOVE      1973       1974   \n",
       "1   7741    80201906  BLACK PANTHER      2018       2019   \n",
       "2   7800    80201906  BLACK PANTHER      2018       2019   \n",
       "3   7803    80201906  BLACK PANTHER      2018       2019   \n",
       "4   5852    60031232   MYSTIC RIVER      2003       2004   \n",
       "\n",
       "                               category           nominee    win  \n",
       "0                           Documentary              Love  False  \n",
       "1           Best Motion Picture - Drama     Black Panther  False  \n",
       "2  Best Original Score - Motion Picture  Ludwig Göransson  False  \n",
       "3   Best Original Song - Motion Picture     All The Stars  False  \n",
       "4           Best Motion Picture - Drama      Mystic River  False  "
      ]
     },
     "execution_count": 20,
     "metadata": {},
     "output_type": "execute_result"
    }
   ],
   "source": [
    "gg_query = pd.read_sql_query('Select * from golden_globe', con=engine)\n",
    "gg_query.head()"
>>>>>>> cindy
   ]
  }
 ],
 "metadata": {
<<<<<<< HEAD
  "kernel_info": {
   "name": "python3"
  },
=======
>>>>>>> cindy
  "kernelspec": {
   "display_name": "Python 3",
   "language": "python",
   "name": "python3"
  },
  "language_info": {
   "codemirror_mode": {
    "name": "ipython",
    "version": 3
   },
   "file_extension": ".py",
   "mimetype": "text/x-python",
   "name": "python",
   "nbconvert_exporter": "python",
   "pygments_lexer": "ipython3",
   "version": "3.7.4"
<<<<<<< HEAD
  },
  "nteract": {
   "version": "0.12.3"
  },
  "varInspector": {
   "cols": {
    "lenName": 16,
    "lenType": 16,
    "lenVar": 40
   },
   "kernels_config": {
    "python": {
     "delete_cmd_postfix": "",
     "delete_cmd_prefix": "del ",
     "library": "var_list.py",
     "varRefreshCmd": "print(var_dic_list())"
    },
    "r": {
     "delete_cmd_postfix": ") ",
     "delete_cmd_prefix": "rm(",
     "library": "var_list.r",
     "varRefreshCmd": "cat(var_dic_list()) "
    }
   },
   "types_to_exclude": [
    "module",
    "function",
    "builtin_function_or_method",
    "instance",
    "_Feature"
   ],
   "window_display": false
=======
>>>>>>> cindy
  }
 },
 "nbformat": 4,
 "nbformat_minor": 2
}
